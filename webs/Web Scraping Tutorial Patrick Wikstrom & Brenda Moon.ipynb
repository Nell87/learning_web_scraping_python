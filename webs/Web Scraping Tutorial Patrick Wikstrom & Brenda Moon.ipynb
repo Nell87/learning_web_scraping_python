{
 "cells": [
  {
   "cell_type": "markdown",
   "metadata": {},
   "source": [
    "## Basic tips about jupyter notebook"
   ]
  },
  {
   "cell_type": "markdown",
   "metadata": {},
   "source": [
    "SOURCE: https://www.dataquest.io/blog/jupyter-notebook-tips-tricks-shortcuts/\n",
    "\n",
    "- **Esc** will take you into command mode where you can navigate around your notebook with arrow keys.\n",
    "\n",
    "- In command mode:\n",
    "    - **A** to insert a new cell above the current cell, **B** to insert a new cell below.\n",
    "    - **M** to change the current cell to Markdown, **Y** to change it back to code\n",
    "    - **D + D** (press the key twice) to delete the current cell\n",
    "    \n",
    "- **Enter** will take you from command mode back into edit mode for the given cell.\n",
    "- You can also use **Shift + M** to merge multiple cells.\n",
    "\n",
    "\n",
    "\n",
    "\n"
   ]
  },
  {
   "cell_type": "markdown",
   "metadata": {
    "heading_collapsed": true
   },
   "source": [
    "## Extract album title from a single item on a single page\n",
    "SOURCE: https://github.com/qut-dmrc/web-scraping-intro-workshop/blob/master/web-scraping-intro-step1.ipynb\n",
    "\n",
    "This notebook gets a page from the Metacritic website and then extracts one of the fields we are interested in from it.\n"
   ]
  },
  {
   "cell_type": "code",
   "execution_count": 3,
   "metadata": {
    "hidden": true
   },
   "outputs": [],
   "source": [
    "# Import python modules\n",
    "import bs4       # BeautifulSoup4 is a Python package for parsing HTML and XML documents\n",
    "import requests  # It allows you to send HTTP requests in Python"
   ]
  },
  {
   "cell_type": "markdown",
   "metadata": {
    "hidden": true
   },
   "source": [
    "The next steps build up the URL that has the information we want. The sections of the url that we will want to change to get more pages of information are kept seperate so we can change them more easily."
   ]
  },
  {
   "cell_type": "code",
   "execution_count": 4,
   "metadata": {
    "hidden": true
   },
   "outputs": [],
   "source": [
    "# This is the base_url\n",
    "base_url = \"http://www.metacritic.com/browse/albums/artist\""
   ]
  },
  {
   "cell_type": "code",
   "execution_count": 5,
   "metadata": {
    "hidden": true
   },
   "outputs": [],
   "source": [
    "# Select which page to scrape based on the first letter of the artist names\n",
    "letter = \"/a\""
   ]
  },
  {
   "cell_type": "code",
   "execution_count": 8,
   "metadata": {
    "hidden": true
   },
   "outputs": [],
   "source": [
    "# Build the url (only scrape the first page - page 0)\n",
    "page = base_url+letter+\"?page=0\""
   ]
  },
  {
   "cell_type": "markdown",
   "metadata": {
    "hidden": true
   },
   "source": [
    "Now lets check what the variable thepage is set to. You can show the value of any variable in a notebook by putting it in the last line of a notebook cell and running the cell. Jupyter will try to display it in a clear way, often clearer than the default 'print' layout."
   ]
  },
  {
   "cell_type": "code",
   "execution_count": 9,
   "metadata": {
    "hidden": true
   },
   "outputs": [
    {
     "data": {
      "text/plain": [
       "'http://www.metacritic.com/browse/albums/artist/a?page=0'"
      ]
     },
     "execution_count": 9,
     "metadata": {},
     "output_type": "execute_result"
    }
   ],
   "source": [
    "page"
   ]
  },
  {
   "cell_type": "markdown",
   "metadata": {
    "hidden": true
   },
   "source": [
    "These steps get the page using Requests and then process it using BeautifulSoup.\n",
    "\n"
   ]
  },
  {
   "cell_type": "code",
   "execution_count": 10,
   "metadata": {
    "hidden": true
   },
   "outputs": [],
   "source": [
    "# the bot pretends to be a Chrome browser\n",
    "hdrs = {\"User-Agent\": \"Chrome/78.0\"}"
   ]
  },
  {
   "cell_type": "code",
   "execution_count": 11,
   "metadata": {
    "hidden": true
   },
   "outputs": [
    {
     "name": "stdout",
     "output_type": "stream",
     "text": [
      "Success!\n"
     ]
    }
   ],
   "source": [
    "# call the url\n",
    "response_url = requests.get(page, headers=hdrs)   # We can see the status code that the server returned. \n",
    "                                                  # If the server returns 200 status code, the program will work!\n",
    "                                                  # If the server returns 404, the program will fail.\n",
    "if response_url.status_code == 200:\n",
    "    print(\"Success!\")\n",
    "    \n",
    "elif response_url.status_code == 404:\n",
    "    print(\"Not found!\")                           # It works!!"
   ]
  },
  {
   "cell_type": "code",
   "execution_count": 12,
   "metadata": {
    "hidden": true
   },
   "outputs": [
    {
     "data": {
      "text/plain": [
       "<Response [200]>"
      ]
     },
     "execution_count": 12,
     "metadata": {},
     "output_type": "execute_result"
    }
   ],
   "source": [
    "response_url"
   ]
  },
  {
   "cell_type": "code",
   "execution_count": 13,
   "metadata": {
    "hidden": true
   },
   "outputs": [],
   "source": [
    "# Transform to soup using html.parser \n",
    "soup = bs4.BeautifulSoup(response_url.text, \"html.parser\")"
   ]
  },
  {
   "cell_type": "code",
   "execution_count": 14,
   "metadata": {
    "hidden": true
   },
   "outputs": [
    {
     "data": {
      "text/plain": [
       "<div class=\"product_wrap\">\n",
       "<div class=\"basic_stat product_title\">\n",
       "<a href=\"/music/colonia/a-camp\">\n",
       "                            Colonia\n",
       "                                                    </a>\n",
       "</div>\n",
       "<div class=\"basic_stat product_score brief_metascore\">\n",
       "<div class=\"metascore_w small release positive\">64</div>\n",
       "</div>\n",
       "<div class=\"basic_stat condensed_stats\">\n",
       "<ul class=\"more_stats\">\n",
       "<li class=\"stat product_artist\">\n",
       "<span class=\"label\">Artist:</span>\n",
       "<span class=\"data\">A Camp</span>\n",
       "</li>\n",
       "<li class=\"stat product_avguserscore\">\n",
       "<span class=\"label\">User:</span>\n",
       "<span class=\"data textscore textscore_favorable\">8.0</span>\n",
       "</li>\n",
       "<li class=\"stat release_date full_release_date\">\n",
       "<span class=\"label\">Release Date:</span>\n",
       "<span class=\"data\">Apr 28, 2009</span>\n",
       "</li>\n",
       "</ul>\n",
       "</div>\n",
       "</div>"
      ]
     },
     "execution_count": 14,
     "metadata": {},
     "output_type": "execute_result"
    }
   ],
   "source": [
    "# Find all div-tags of class \"product_wrap\" (We found it using the SelectorGadget extension)\n",
    "title_tag = soup.find_all(\"div\", class_=[\"product_wrap\"]) \n",
    "\n",
    "# Have a look at the first item in the list\n",
    "title_tag[0]"
   ]
  },
  {
   "cell_type": "code",
   "execution_count": 15,
   "metadata": {
    "hidden": true
   },
   "outputs": [
    {
     "data": {
      "text/plain": [
       "<div class=\"basic_stat product_title\">\n",
       "<a href=\"/music/colonia/a-camp\">\n",
       "                            Colonia\n",
       "                                                    </a>\n",
       "</div>"
      ]
     },
     "execution_count": 15,
     "metadata": {},
     "output_type": "execute_result"
    }
   ],
   "source": [
    "# Extract the first div-tag from the first item\n",
    "thetitle = title_tag[0].find(\"div\", class_=\"product_title\")\n",
    "thetitle"
   ]
  },
  {
   "cell_type": "code",
   "execution_count": 16,
   "metadata": {
    "hidden": true
   },
   "outputs": [
    {
     "data": {
      "text/plain": [
       "'\\n\\n                            Colonia\\n                                                    \\n'"
      ]
     },
     "execution_count": 16,
     "metadata": {},
     "output_type": "execute_result"
    }
   ],
   "source": [
    "# The album name is the text part of this tag\n",
    "temp= thetitle.get_text()\n",
    "temp"
   ]
  },
  {
   "cell_type": "code",
   "execution_count": 18,
   "metadata": {
    "hidden": true
   },
   "outputs": [
    {
     "data": {
      "text/plain": [
       "['Colonia']"
      ]
     },
     "execution_count": 18,
     "metadata": {},
     "output_type": "execute_result"
    }
   ],
   "source": [
    "# It's poorly formatted so we need to clean it up a bit by first splitting the string into a list of words\n",
    "temptemp= temp.split()\n",
    "temptemp"
   ]
  },
  {
   "cell_type": "code",
   "execution_count": 19,
   "metadata": {
    "hidden": true
   },
   "outputs": [
    {
     "data": {
      "text/plain": [
       "'Colonia'"
      ]
     },
     "execution_count": 19,
     "metadata": {},
     "output_type": "execute_result"
    }
   ],
   "source": [
    "# And then we need to join the words back together with single spaces between them\n",
    "clean_title = \" \".join(temptemp)\n",
    "clean_title"
   ]
  },
  {
   "cell_type": "markdown",
   "metadata": {
    "heading_collapsed": true
   },
   "source": [
    "## Extract all album titles on a single page\n",
    "SOURCE: https://github.com/qut-dmrc/web-scraping-intro-workshop/blob/master/web-scraping-intro-step2.ipynb\n",
    "\n",
    "This notebook extends the previous step to get all of the titles from a single page."
   ]
  },
  {
   "cell_type": "markdown",
   "metadata": {
    "hidden": true
   },
   "source": [
    "- We already have bs4 and requests python modules, so we don't need to import more modules. \n",
    "- We also have the base_url, the lett, the page and the browser\n",
    "- We have checked that the status code is 200"
   ]
  },
  {
   "cell_type": "code",
   "execution_count": 21,
   "metadata": {
    "hidden": true
   },
   "outputs": [
    {
     "data": {
      "text/plain": [
       "'http://www.metacritic.com/browse/albums/artist/a?page=0'"
      ]
     },
     "execution_count": 21,
     "metadata": {},
     "output_type": "execute_result"
    }
   ],
   "source": [
    "page"
   ]
  },
  {
   "cell_type": "code",
   "execution_count": 22,
   "metadata": {
    "hidden": true
   },
   "outputs": [],
   "source": [
    "# Transform to soup using html.parser parser\n",
    "soup = bs4.BeautifulSoup(response_url.text, \"html.parser\")\n",
    "\n",
    "# Find all div-tags of class \"product_wrap\" (We found it using the SelectorGadget extension)\n",
    "title_tag = soup.find_all(\"div\", class_=[\"product_wrap\"]) "
   ]
  },
  {
   "cell_type": "markdown",
   "metadata": {
    "hidden": true
   },
   "source": [
    "Now process **title_tag** in a new way to get all the items instead of just one."
   ]
  },
  {
   "cell_type": "code",
   "execution_count": 23,
   "metadata": {
    "hidden": true
   },
   "outputs": [],
   "source": [
    "# Let's do the same thing as in the previous step but for all items in the page\n",
    "\n",
    "list = []\n",
    "\n",
    "for item in title_tag:\n",
    "    \n",
    "    # extract the first div-tag from the item\n",
    "    thetitle = item.find(\"div\", class_=\"product_title\")\n",
    "    \n",
    "    # extract and clean up the album name\n",
    "    temptemp = thetitle.get_text()\n",
    "    temptemp= temptemp.split()\n",
    "    album_name = \" \".join(temptemp)\n",
    "    \n",
    "    # add the albun name to the list\n",
    "    list += [album_name]"
   ]
  },
  {
   "cell_type": "code",
   "execution_count": 24,
   "metadata": {
    "hidden": true
   },
   "outputs": [
    {
     "data": {
      "text/plain": [
       "['Colonia',\n",
       " 'Call It Blazing',\n",
       " 'Common Courtesy',\n",
       " 'Bad Vibrations',\n",
       " 'Pines',\n",
       " 'Pile',\n",
       " 'Toy',\n",
       " 'Feathers Wet, Under the Moon',\n",
       " 'Wooden Mask',\n",
       " 'Passover',\n",
       " \"You're Always on My Mind\",\n",
       " 'A Gun Called Tension',\n",
       " 'Essence',\n",
       " 'Darkness At Noon',\n",
       " 'The Way The Wind Blows',\n",
       " 'Cervantine',\n",
       " 'You Have Already Gone to the Other World',\n",
       " 'And Hell Will Follow Me',\n",
       " 'Thirteenth Step',\n",
       " 'eMOTIVe',\n",
       " 'Eat the Elephant',\n",
       " 'A Place To Bury Strangers',\n",
       " 'Exploding Head',\n",
       " 'Onwards to the Wall [EP]',\n",
       " 'Worship',\n",
       " 'Transfixiation',\n",
       " 'Pinned',\n",
       " 'Elasticity',\n",
       " 'Ashes Grammar',\n",
       " 'Nitetime Rainbows [EP]',\n",
       " 'Autumn, Again',\n",
       " 'Sea When Absent',\n",
       " 'We Got It From Here...Thank You 4 Your Service',\n",
       " 'Partycrasher',\n",
       " 'A Winged Victory for the Sullen',\n",
       " 'Atomos',\n",
       " 'Iris [Original Motion Picture Soundtrack]',\n",
       " 'The Undivided Five',\n",
       " 'Trap Lord',\n",
       " 'Always Strive and Prosper',\n",
       " 'Still Striving [Mixtape]',\n",
       " 'Cozy Tapes, Vol. 1: Friends',\n",
       " 'Cozy Tapes, Vol. 2: Too Cozy',\n",
       " 'Live Love A$AP',\n",
       " 'Long.Live.A$AP',\n",
       " 'At.Long.Last.A$AP',\n",
       " 'Testing',\n",
       " 'Teen Spirit',\n",
       " 'Foot Of The Mountain',\n",
       " \"When The Devil's Loose\",\n",
       " 'Believers',\n",
       " 'Enderness',\n",
       " 'You Are the One',\n",
       " '2012-2017',\n",
       " 'The Slow Wonder',\n",
       " 'Get Guilty',\n",
       " 'Shut Down The Streets',\n",
       " 'A.R.E. Weapons',\n",
       " 'Aaliyah',\n",
       " 'I Heart California',\n",
       " 'Modern Jester',\n",
       " 'Marvelous Clouds',\n",
       " 'Memphis Rain',\n",
       " 'Silver Tears',\n",
       " 'Karma for Cheap',\n",
       " 'My True Story',\n",
       " 'Apache',\n",
       " 'Invisible Cinema',\n",
       " \"We Don't Have Each Other\",\n",
       " 'Control System',\n",
       " 'These Days...',\n",
       " 'Do What Thou Wilt.',\n",
       " 'The Lexicon of Love II',\n",
       " 'Fangnawa Experience',\n",
       " 'Skeleton',\n",
       " 'Reviver [EP]',\n",
       " 'Crush',\n",
       " 'City of Refuge',\n",
       " 'Start and Complete',\n",
       " 'Between the Walls',\n",
       " 'Victory Shorts',\n",
       " 'Absolutely Free',\n",
       " 'Black Ice',\n",
       " 'Backtracks',\n",
       " 'Rock or Bust',\n",
       " 'The Rise of Chaos',\n",
       " 'Colliding by Design',\n",
       " 'Space Invader',\n",
       " 'Trials & Tribulations',\n",
       " 'Ace of Cups',\n",
       " 'Deathless Master',\n",
       " 'York Blvd',\n",
       " '1992-2001',\n",
       " 'Love & Hate',\n",
       " 'Magnificent City',\n",
       " 'Musique de France',\n",
       " 'Music Sounds Better With You',\n",
       " 'MST',\n",
       " 'Living With A Tiger']"
      ]
     },
     "execution_count": 24,
     "metadata": {},
     "output_type": "execute_result"
    }
   ],
   "source": [
    "#list"
   ]
  },
  {
   "cell_type": "markdown",
   "metadata": {
    "heading_collapsed": true
   },
   "source": [
    "## Extract all review data from a single page\n",
    "SOURCE: https://github.com/qut-dmrc/web-scraping-intro-workshop/blob/eed5d2a9dcc328dc2988b31ac0b8adadc2f0561c/web-scraping-intro-step3.ipynb\n",
    "\n",
    "Extend from getting just the title field to getting all the fields we are interested in from each item."
   ]
  },
  {
   "cell_type": "markdown",
   "metadata": {
    "hidden": true
   },
   "source": [
    "- We already have bs4 and requests python modules, so we don't need to import more modules. \n",
    "- We also have the base_url, the lett, the page and the browser\n",
    "- We have checked that the status code is 200"
   ]
  },
  {
   "cell_type": "code",
   "execution_count": 25,
   "metadata": {
    "hidden": true
   },
   "outputs": [
    {
     "data": {
      "text/plain": [
       "'http://www.metacritic.com/browse/albums/artist/a?page=0'"
      ]
     },
     "execution_count": 25,
     "metadata": {},
     "output_type": "execute_result"
    }
   ],
   "source": [
    "page"
   ]
  },
  {
   "cell_type": "code",
   "execution_count": 26,
   "metadata": {
    "hidden": true
   },
   "outputs": [],
   "source": [
    "# Transform to soup using html.parser parser\n",
    "soup = bs4.BeautifulSoup(response_url.text, \"html.parser\")\n",
    "\n",
    "# Find all div-tags of class \"product_wrap\" (We found it using the SelectorGadget extension)\n",
    "title_tag = soup.find_all(\"div\", class_=[\"product_wrap\"]) "
   ]
  },
  {
   "cell_type": "markdown",
   "metadata": {
    "hidden": true
   },
   "source": [
    "Now process **title_tag** in a new way to get more fields for all of the items.\n",
    "\n"
   ]
  },
  {
   "cell_type": "code",
   "execution_count": 108,
   "metadata": {
    "hidden": true
   },
   "outputs": [],
   "source": [
    "list = []\n",
    "\n",
    "for item in title_tag:\n",
    "    \n",
    "    # Empty item\n",
    "    item_x = []\n",
    "     \n",
    "    # Album name\n",
    "    temptemp = item.find(\"div\",class_=\"product_title\")\n",
    "    temptemp = temptemp.get_text()\n",
    "    temptemp = temptemp.split()\n",
    "    item_x += [\" \".join(temptemp)]\n",
    "\n",
    "    # Artist name\n",
    "    temptemp = item.find(\"li\",class_=\"product_artist\")\n",
    "    temptemp = temptemp.find(\"span\", class_=[\"data\"]).get_text()\n",
    "    item_x += [temptemp]\n",
    "    \n",
    "    # Album name\n",
    "    temptemp = item.find(\"li\", class_=\"release_date\")\n",
    "    temptemp = temptemp.find(\"span\", class_=[\"data\"]).get_text()\n",
    "    item_x +=  [temptemp]\n",
    "    \n",
    "    # Metacritic score\n",
    "    temptemp = item.find(\"div\", class_=\"product_score\").get_text()\n",
    "    temptemp = temptemp.split()\n",
    "    item_x += [\" \".join(temptemp)]\n",
    "\n",
    "    # User score\n",
    "    temptemp = item.find(\"li\", class_=\"product_avguserscore\")\n",
    "    temptemp = temptemp.find(\"span\",class_=[\"data\"]).get_text()\n",
    "    item_x += [temptemp]\n",
    "    \n",
    "    # url\n",
    "    temptemp = item.find(\"div\",class_=\"product_title\")\n",
    "    temptemp= \"http://www.metacritic.com\"+temptemp.a.attrs[\"href\"]\n",
    "    item_x += [temptemp]\n",
    "\n",
    "    # Add to the list\n",
    "    list += [item_x]   \n",
    "    "
   ]
  },
  {
   "cell_type": "code",
   "execution_count": 113,
   "metadata": {
    "hidden": true
   },
   "outputs": [],
   "source": [
    "#list"
   ]
  },
  {
   "cell_type": "markdown",
   "metadata": {
    "heading_collapsed": true
   },
   "source": [
    "## Structure the data extraction as a function\n",
    "SOURCE: https://github.com/qut-dmrc/web-scraping-intro-workshop/blob/eed5d2a9dcc328dc2988b31ac0b8adadc2f0561c/web-scraping-intro-step4.ipynb\n",
    "\n",
    "This notebook shows how to move the code for data extraction into a function.\n",
    "\n",
    "A function makes it easier to call a block of code with different data and to reuse it in other code. In this case we have chosen to have the function expect one of the review pages which has already been processed by BeautifulSoup as a parameter.\n",
    "\n"
   ]
  },
  {
   "cell_type": "markdown",
   "metadata": {
    "hidden": true
   },
   "source": [
    "**Function definitions** "
   ]
  },
  {
   "cell_type": "markdown",
   "metadata": {
    "hidden": true
   },
   "source": [
    "The code in this cell is doing exactly the same thing as in the previous step but packaged into a function that call be called when necessary.\n",
    "\n",
    "The function **PROCESSES a beautiful_soup data structure** and **RETURNS new album_reviews as a list of lists**."
   ]
  },
  {
   "cell_type": "code",
   "execution_count": 114,
   "metadata": {
    "hidden": true
   },
   "outputs": [],
   "source": [
    "def get_itemlist(soup):\n",
    "\n",
    "    # Find all div-tags of class \"product_wrap\" (We found it using the SelectorGadget extension)\n",
    "    title_tag = soup.find_all(\"div\", class_=[\"product_wrap\"]) \n",
    "    \n",
    "    list = []\n",
    "\n",
    "    for item in title_tag:\n",
    "    \n",
    "        # Empty item\n",
    "        item_x = []\n",
    "\n",
    "        # Album name\n",
    "        temptemp = item.find(\"div\",class_=\"product_title\")\n",
    "        temptemp = temptemp.get_text()\n",
    "        temptemp = temptemp.split()\n",
    "        item_x += [\" \".join(temptemp)]\n",
    "\n",
    "        # Artist name\n",
    "        temptemp = item.find(\"li\",class_=\"product_artist\")\n",
    "        temptemp = temptemp.find(\"span\", class_=[\"data\"]).get_text()\n",
    "        item_x += [temptemp]\n",
    "\n",
    "        # Album name\n",
    "        temptemp = item.find(\"li\", class_=\"release_date\")\n",
    "        temptemp = temptemp.find(\"span\", class_=[\"data\"]).get_text()\n",
    "        item_x +=  [temptemp]\n",
    "\n",
    "        # Metacritic score\n",
    "        temptemp = item.find(\"div\", class_=\"product_score\").get_text()\n",
    "        temptemp = temptemp.split()\n",
    "        item_x += [\" \".join(temptemp)]\n",
    "\n",
    "        # User score\n",
    "        temptemp = item.find(\"li\", class_=\"product_avguserscore\")\n",
    "        temptemp = temptemp.find(\"span\",class_=[\"data\"]).get_text()\n",
    "        item_x += [temptemp]\n",
    "\n",
    "        # url\n",
    "        temptemp = item.find(\"div\",class_=\"product_title\")\n",
    "        temptemp= \"http://www.metacritic.com\"+temptemp.a.attrs[\"href\"]\n",
    "        item_x += [temptemp]\n",
    "        \n",
    "        # not all albums have both expert reviews and user reviews. Those albums\n",
    "        # that has data missing, use \"tbd\" instead. We only want to add items\n",
    "        # that have both user_score and mc_score\n",
    "\n",
    "        # Add to the list\n",
    "        if not \"tbd\" in item_x:\n",
    "            list = list + [item_x]   \n",
    "            \n",
    "    return list"
   ]
  },
  {
   "cell_type": "markdown",
   "metadata": {
    "hidden": true
   },
   "source": [
    "**Calling the function** "
   ]
  },
  {
   "cell_type": "code",
   "execution_count": 115,
   "metadata": {
    "hidden": true
   },
   "outputs": [],
   "source": [
    "reviews = get_itemlist(soup)"
   ]
  },
  {
   "cell_type": "code",
   "execution_count": 117,
   "metadata": {
    "hidden": true
   },
   "outputs": [],
   "source": [
    "#reviews"
   ]
  },
  {
   "cell_type": "markdown",
   "metadata": {
    "heading_collapsed": true
   },
   "source": [
    "## Store the data in a dataframe and save to disk\n",
    "SOURCE: https://github.com/qut-dmrc/web-scraping-intro-workshop/blob/eed5d2a9dcc328dc2988b31ac0b8adadc2f0561c/web-scraping-intro-step5.ipynb\n",
    "\n",
    "This notebook extends the get_itemlist function to save the data in a dataframe."
   ]
  },
  {
   "cell_type": "code",
   "execution_count": 118,
   "metadata": {
    "hidden": true
   },
   "outputs": [],
   "source": [
    "# Import python modules\n",
    "import bs4       # BeautifulSoup4 is a Python package for parsing HTML and XML documents\n",
    "import requests  # It allows you to send HTTP requests in Python\n",
    "import pandas as pd "
   ]
  },
  {
   "cell_type": "markdown",
   "metadata": {
    "hidden": true
   },
   "source": [
    "**Define columns labels for the dataframe**"
   ]
  },
  {
   "cell_type": "code",
   "execution_count": 122,
   "metadata": {
    "hidden": true
   },
   "outputs": [],
   "source": [
    "colnames = [\"artistname\", \"albumname\", \"release_date\", \"mc_score\", \"user_score\", \"url\"]"
   ]
  },
  {
   "cell_type": "markdown",
   "metadata": {
    "hidden": true
   },
   "source": [
    "**Function definitions** "
   ]
  },
  {
   "cell_type": "code",
   "execution_count": 123,
   "metadata": {
    "hidden": true
   },
   "outputs": [],
   "source": [
    "# Let's change a little bit the function\n",
    "def get_itemlist(soup):\n",
    "\n",
    "    # Find all div-tags of class \"product_wrap\" (We found it using the SelectorGadget extension)\n",
    "    title_tag = soup.find_all(\"div\", class_=[\"product_wrap\"]) \n",
    "    \n",
    "    list = []\n",
    "\n",
    "    for item in title_tag:\n",
    "    \n",
    "        # Empty item\n",
    "        item_x = []\n",
    "\n",
    "        # Album name\n",
    "        temptemp = item.find(\"div\",class_=\"product_title\")\n",
    "        temptemp = temptemp.get_text()\n",
    "        temptemp = temptemp.split()\n",
    "        item_x += [\" \".join(temptemp)]\n",
    "\n",
    "        # Artist name\n",
    "        temptemp = item.find(\"li\",class_=\"product_artist\")\n",
    "        temptemp = temptemp.find(\"span\", class_=[\"data\"]).get_text()\n",
    "        item_x += [temptemp]\n",
    "\n",
    "        # Album name\n",
    "        temptemp = item.find(\"li\", class_=\"release_date\")\n",
    "        temptemp = temptemp.find(\"span\", class_=[\"data\"]).get_text()\n",
    "        item_x +=  [temptemp]\n",
    "\n",
    "        # Metacritic score\n",
    "        temptemp = item.find(\"div\", class_=\"product_score\").get_text()\n",
    "        temptemp = temptemp.split()\n",
    "        item_x += [\" \".join(temptemp)]\n",
    "\n",
    "        # User score\n",
    "        temptemp = item.find(\"li\", class_=\"product_avguserscore\")\n",
    "        temptemp = temptemp.find(\"span\",class_=[\"data\"]).get_text()\n",
    "        item_x += [temptemp]\n",
    "\n",
    "        # url\n",
    "        temptemp = item.find(\"div\",class_=\"product_title\")\n",
    "        temptemp= \"http://www.metacritic.com\"+temptemp.a.attrs[\"href\"]\n",
    "        item_x += [temptemp]\n",
    "        \n",
    "        # not all albums have both expert reviews and user reviews. Those albums\n",
    "        # that has data missing, use \"tbd\" instead. We only want to add items\n",
    "        # that have both user_score and mc_score\n",
    "\n",
    "        # Add to the list\n",
    "        if not \"tbd\" in item_x:\n",
    "            list = list + [item_x]   \n",
    "            \n",
    "    return pd.DataFrame(list, columns=colnames)"
   ]
  },
  {
   "cell_type": "markdown",
   "metadata": {
    "hidden": true
   },
   "source": [
    "**Calling the function**"
   ]
  },
  {
   "cell_type": "code",
   "execution_count": 124,
   "metadata": {
    "hidden": true
   },
   "outputs": [],
   "source": [
    "reviews = get_itemlist(soup)"
   ]
  },
  {
   "cell_type": "code",
   "execution_count": 126,
   "metadata": {
    "hidden": true
   },
   "outputs": [],
   "source": [
    "#reviews"
   ]
  },
  {
   "cell_type": "markdown",
   "metadata": {
    "hidden": true
   },
   "source": [
    "**Saving to disk**"
   ]
  },
  {
   "cell_type": "code",
   "execution_count": 127,
   "metadata": {
    "hidden": true
   },
   "outputs": [],
   "source": [
    "#reviews.to_csv(\"reviews.csv\")"
   ]
  },
  {
   "cell_type": "markdown",
   "metadata": {
    "heading_collapsed": true
   },
   "source": [
    "## Restructure the code for clarity\n",
    "SOURCE: https://github.com/qut-dmrc/web-scraping-intro-workshop/blob/eed5d2a9dcc328dc2988b31ac0b8adadc2f0561c/web-scraping-intro-step6.ipynb\n",
    "\n",
    "This notebook is identical to the previous step, but the code is structured in a different way that will be easier to extend to multiple pages."
   ]
  },
  {
   "cell_type": "markdown",
   "metadata": {
    "hidden": true
   },
   "source": [
    "### **Import packages**\n"
   ]
  },
  {
   "cell_type": "code",
   "execution_count": 130,
   "metadata": {
    "hidden": true
   },
   "outputs": [],
   "source": [
    "import bs4\n",
    "import requests\n",
    "import pandas as pd"
   ]
  },
  {
   "cell_type": "markdown",
   "metadata": {
    "hidden": true
   },
   "source": [
    "### **Initialise global variables**"
   ]
  },
  {
   "cell_type": "code",
   "execution_count": 132,
   "metadata": {
    "hidden": true
   },
   "outputs": [],
   "source": [
    "# This is the base_url\n",
    "base_url = \"http://www.metacritic.com/browse/albums/artist\""
   ]
  },
  {
   "cell_type": "code",
   "execution_count": 133,
   "metadata": {
    "hidden": true
   },
   "outputs": [],
   "source": [
    "# The bot pretends to be a Chrome browser\n",
    "hdrs = {\"User-Agent\": \"Chrome/78.0\"}"
   ]
  },
  {
   "cell_type": "code",
   "execution_count": 134,
   "metadata": {
    "hidden": true
   },
   "outputs": [],
   "source": [
    "# Columns labels\n",
    "colnames = [\"artistname\", \"albumname\", \"release_date\", \"mc_score\", \"user_score\", \"url\"]"
   ]
  },
  {
   "cell_type": "markdown",
   "metadata": {
    "hidden": true
   },
   "source": [
    "###  **Function definitions**\n",
    "\n"
   ]
  },
  {
   "cell_type": "markdown",
   "metadata": {
    "hidden": true
   },
   "source": [
    "The function **PROCESSES** a beautiful_soup data structure and **RETURNS** new album_reviews as a list of lists."
   ]
  },
  {
   "cell_type": "code",
   "execution_count": 135,
   "metadata": {
    "hidden": true
   },
   "outputs": [],
   "source": [
    "def get_itemlist(soup):\n",
    "\n",
    "    # Find all div-tags of class \"product_wrap\" (We found it using the SelectorGadget extension)\n",
    "    title_tag = soup.find_all(\"div\", class_=[\"product_wrap\"]) \n",
    "    \n",
    "    list = []\n",
    "\n",
    "    for item in title_tag:\n",
    "    \n",
    "        # Empty item\n",
    "        item_x = []\n",
    "\n",
    "        # Album name\n",
    "        temptemp = item.find(\"div\",class_=\"product_title\")\n",
    "        temptemp = temptemp.get_text()\n",
    "        temptemp = temptemp.split()\n",
    "        item_x += [\" \".join(temptemp)]\n",
    "\n",
    "        # Artist name\n",
    "        temptemp = item.find(\"li\",class_=\"product_artist\")\n",
    "        temptemp = temptemp.find(\"span\", class_=[\"data\"]).get_text()\n",
    "        item_x += [temptemp]\n",
    "\n",
    "        # Album name\n",
    "        temptemp = item.find(\"li\", class_=\"release_date\")\n",
    "        temptemp = temptemp.find(\"span\", class_=[\"data\"]).get_text()\n",
    "        item_x +=  [temptemp]\n",
    "\n",
    "        # Metacritic score\n",
    "        temptemp = item.find(\"div\", class_=\"product_score\").get_text()\n",
    "        temptemp = temptemp.split()\n",
    "        item_x += [\" \".join(temptemp)]\n",
    "\n",
    "        # User score\n",
    "        temptemp = item.find(\"li\", class_=\"product_avguserscore\")\n",
    "        temptemp = temptemp.find(\"span\",class_=[\"data\"]).get_text()\n",
    "        item_x += [temptemp]\n",
    "\n",
    "        # url\n",
    "        temptemp = item.find(\"div\",class_=\"product_title\")\n",
    "        temptemp= \"http://www.metacritic.com\"+temptemp.a.attrs[\"href\"]\n",
    "        item_x += [temptemp]\n",
    "        \n",
    "        # not all albums have both expert reviews and user reviews. Those albums\n",
    "        # that has data missing, use \"tbd\" instead. We only want to add items\n",
    "        # that have both user_score and mc_score\n",
    "\n",
    "        # Add to the list\n",
    "        if not \"tbd\" in item_x:\n",
    "            list = list + [item_x]   \n",
    "            \n",
    "    return pd.DataFrame(list, columns=colnames)"
   ]
  },
  {
   "cell_type": "markdown",
   "metadata": {
    "hidden": true
   },
   "source": [
    "###  **The script**"
   ]
  },
  {
   "cell_type": "code",
   "execution_count": 136,
   "metadata": {
    "hidden": true
   },
   "outputs": [],
   "source": [
    "# Reset the dataframe\n",
    "reviews = pd.DataFrame(columns=colnames)"
   ]
  },
  {
   "cell_type": "code",
   "execution_count": 137,
   "metadata": {
    "hidden": true
   },
   "outputs": [],
   "source": [
    "# Select which page to scrape based on the first letter of the artist names\n",
    "letter = \"/a\""
   ]
  },
  {
   "cell_type": "code",
   "execution_count": 138,
   "metadata": {
    "hidden": true
   },
   "outputs": [],
   "source": [
    "# Build the url (only scrape the first page - page 0)\n",
    "page = base_url+letter+\"?page=0\""
   ]
  },
  {
   "cell_type": "code",
   "execution_count": 140,
   "metadata": {
    "hidden": true
   },
   "outputs": [
    {
     "data": {
      "text/plain": [
       "<Response [200]>"
      ]
     },
     "execution_count": 140,
     "metadata": {},
     "output_type": "execute_result"
    }
   ],
   "source": [
    "# Call the url\n",
    "response_url = requests.get(page, headers=hdrs)\n",
    "response_url"
   ]
  },
  {
   "cell_type": "code",
   "execution_count": 141,
   "metadata": {
    "hidden": true
   },
   "outputs": [],
   "source": [
    "# Transform to soup using html.parser \n",
    "soup = bs4.BeautifulSoup(response_url.text, \"html.parser\")"
   ]
  },
  {
   "cell_type": "code",
   "execution_count": 142,
   "metadata": {
    "hidden": true
   },
   "outputs": [],
   "source": [
    "# Extract the new reviews from this page\n",
    "new_reviews = get_itemlist(soup)"
   ]
  },
  {
   "cell_type": "code",
   "execution_count": 143,
   "metadata": {
    "hidden": true
   },
   "outputs": [],
   "source": [
    "# Add the new reviews to the dataframe\n",
    "reviews = reviews.append(new_reviews)"
   ]
  },
  {
   "cell_type": "code",
   "execution_count": 145,
   "metadata": {
    "hidden": true
   },
   "outputs": [
    {
     "name": "stdout",
     "output_type": "stream",
     "text": [
      "URL: http://www.metacritic.com/browse/albums/artist/a?page=0\n"
     ]
    }
   ],
   "source": [
    "# Print something to show how the process develops\n",
    "print(\"URL:\",page,flush=True)"
   ]
  },
  {
   "cell_type": "markdown",
   "metadata": {
    "hidden": true
   },
   "source": [
    "### Check the result and save to disk"
   ]
  },
  {
   "cell_type": "code",
   "execution_count": 146,
   "metadata": {
    "hidden": true
   },
   "outputs": [
    {
     "data": {
      "text/plain": [
       "54"
      ]
     },
     "execution_count": 146,
     "metadata": {},
     "output_type": "execute_result"
    }
   ],
   "source": [
    "# How many reviews are there in the dataframe?\n",
    "len(reviews)"
   ]
  },
  {
   "cell_type": "code",
   "execution_count": 149,
   "metadata": {
    "hidden": true
   },
   "outputs": [
    {
     "data": {
      "text/html": [
       "<div>\n",
       "<style scoped>\n",
       "    .dataframe tbody tr th:only-of-type {\n",
       "        vertical-align: middle;\n",
       "    }\n",
       "\n",
       "    .dataframe tbody tr th {\n",
       "        vertical-align: top;\n",
       "    }\n",
       "\n",
       "    .dataframe thead th {\n",
       "        text-align: right;\n",
       "    }\n",
       "</style>\n",
       "<table border=\"1\" class=\"dataframe\">\n",
       "  <thead>\n",
       "    <tr style=\"text-align: right;\">\n",
       "      <th></th>\n",
       "      <th>artistname</th>\n",
       "      <th>albumname</th>\n",
       "      <th>release_date</th>\n",
       "      <th>mc_score</th>\n",
       "      <th>user_score</th>\n",
       "      <th>url</th>\n",
       "    </tr>\n",
       "  </thead>\n",
       "  <tbody>\n",
       "    <tr>\n",
       "      <th>0</th>\n",
       "      <td>Colonia</td>\n",
       "      <td>A Camp</td>\n",
       "      <td>Apr 28, 2009</td>\n",
       "      <td>64</td>\n",
       "      <td>8.0</td>\n",
       "      <td>http://www.metacritic.com/music/colonia/a-camp</td>\n",
       "    </tr>\n",
       "    <tr>\n",
       "      <th>1</th>\n",
       "      <td>Common Courtesy</td>\n",
       "      <td>A Day to Remember</td>\n",
       "      <td>Nov 25, 2013</td>\n",
       "      <td>80</td>\n",
       "      <td>8.4</td>\n",
       "      <td>http://www.metacritic.com/music/common-courtes...</td>\n",
       "    </tr>\n",
       "    <tr>\n",
       "      <th>2</th>\n",
       "      <td>Bad Vibrations</td>\n",
       "      <td>A Day to Remember</td>\n",
       "      <td>Sep  2, 2016</td>\n",
       "      <td>81</td>\n",
       "      <td>7.9</td>\n",
       "      <td>http://www.metacritic.com/music/bad-vibrations...</td>\n",
       "    </tr>\n",
       "    <tr>\n",
       "      <th>3</th>\n",
       "      <td>The Way The Wind Blows</td>\n",
       "      <td>A Hawk and a Hacksaw</td>\n",
       "      <td>Oct 17, 2006</td>\n",
       "      <td>80</td>\n",
       "      <td>8.8</td>\n",
       "      <td>http://www.metacritic.com/music/the-way-the-wi...</td>\n",
       "    </tr>\n",
       "    <tr>\n",
       "      <th>4</th>\n",
       "      <td>Thirteenth Step</td>\n",
       "      <td>A Perfect Circle</td>\n",
       "      <td>Sep 16, 2003</td>\n",
       "      <td>74</td>\n",
       "      <td>8.9</td>\n",
       "      <td>http://www.metacritic.com/music/thirteenth-ste...</td>\n",
       "    </tr>\n",
       "  </tbody>\n",
       "</table>\n",
       "</div>"
      ],
      "text/plain": [
       "               artistname             albumname  release_date mc_score  \\\n",
       "0                 Colonia                A Camp  Apr 28, 2009       64   \n",
       "1         Common Courtesy     A Day to Remember  Nov 25, 2013       80   \n",
       "2          Bad Vibrations     A Day to Remember  Sep  2, 2016       81   \n",
       "3  The Way The Wind Blows  A Hawk and a Hacksaw  Oct 17, 2006       80   \n",
       "4         Thirteenth Step      A Perfect Circle  Sep 16, 2003       74   \n",
       "\n",
       "  user_score                                                url  \n",
       "0        8.0     http://www.metacritic.com/music/colonia/a-camp  \n",
       "1        8.4  http://www.metacritic.com/music/common-courtes...  \n",
       "2        7.9  http://www.metacritic.com/music/bad-vibrations...  \n",
       "3        8.8  http://www.metacritic.com/music/the-way-the-wi...  \n",
       "4        8.9  http://www.metacritic.com/music/thirteenth-ste...  "
      ]
     },
     "execution_count": 149,
     "metadata": {},
     "output_type": "execute_result"
    }
   ],
   "source": [
    "# Have a look at the first five items\n",
    "reviews[:5]"
   ]
  },
  {
   "cell_type": "code",
   "execution_count": 150,
   "metadata": {
    "hidden": true
   },
   "outputs": [],
   "source": [
    "# Save the data as a csv file\n",
    "#reviews.to_csv(\"reviews.csv\")"
   ]
  },
  {
   "cell_type": "markdown",
   "metadata": {},
   "source": [
    "## Plotting, tiny stat analysis and improved I/O\n",
    "SOURCE: https://github.com/qut-dmrc/web-scraping-intro-workshop/blob/eed5d2a9dcc328dc2988b31ac0b8adadc2f0561c/web-scraping-intro-step7.ipynb\n",
    "\n",
    "This notebook scrapes http://www.metacritic.com/browse/albums/artist and saves the data in a dataframe. The script iterates through the webpage structure (structured by the first letter of the artist's name) for a single letter.\n"
   ]
  },
  {
   "cell_type": "markdown",
   "metadata": {},
   "source": [
    "### Import packages"
   ]
  },
  {
   "cell_type": "code",
   "execution_count": 151,
   "metadata": {},
   "outputs": [
    {
     "name": "stdout",
     "output_type": "stream",
     "text": [
      "Populating the interactive namespace from numpy and matplotlib\n"
     ]
    }
   ],
   "source": [
    "import bs4\n",
    "import requests\n",
    "import pandas as pd\n",
    "from os.path import isfile\n",
    "\n",
    "# initialise plotting in the notebook\n",
    "%pylab inline"
   ]
  },
  {
   "cell_type": "markdown",
   "metadata": {},
   "source": [
    "### Initialise global variables"
   ]
  },
  {
   "cell_type": "code",
   "execution_count": 163,
   "metadata": {},
   "outputs": [],
   "source": [
    "# This is the base_url\n",
    "base_url = \"http://www.metacritic.com/browse/albums/artist\"\n",
    "\n",
    "# The bot pretends to be a Chrome browser\n",
    "hdrs = {\"User-Agent\": \"Chrome/78.0\"}\n",
    "\n",
    "# Columns labels\n",
    "colnames = [\"artistname\", \"albumname\", \"release_date\", \"mc_score\", \"user_score\", \"url\"]"
   ]
  },
  {
   "cell_type": "markdown",
   "metadata": {},
   "source": [
    "### Functions definitions"
   ]
  },
  {
   "cell_type": "code",
   "execution_count": 152,
   "metadata": {},
   "outputs": [],
   "source": [
    "# We'll use our get_itemlist(soup) function"
   ]
  },
  {
   "cell_type": "markdown",
   "metadata": {},
   "source": [
    "### The script"
   ]
  },
  {
   "cell_type": "code",
   "execution_count": 154,
   "metadata": {},
   "outputs": [
    {
     "name": "stdout",
     "output_type": "stream",
     "text": [
      "54\n"
     ]
    }
   ],
   "source": [
    "# Prepare the dataframe\n",
    "\n",
    "# If there is already a file ....\n",
    "if isfile(\"reviews.csv\"):    \n",
    "    # Load reviews from that file\n",
    "    reviews = pd.read_csv(\"reviews.csv\")\n",
    "\n",
    "else:\n",
    "    # otherwise, set up an empty dataframe\n",
    "    reviews = pd.DataFrame(columns=colnames)\n",
    "# show the number of reviews in the dataframe\n",
    "\n",
    "print(len(reviews))"
   ]
  },
  {
   "cell_type": "code",
   "execution_count": 155,
   "metadata": {},
   "outputs": [],
   "source": [
    "# Select which page to scrape based on the first letter of the artist names\n",
    "letter = \"/a\""
   ]
  },
  {
   "cell_type": "code",
   "execution_count": 156,
   "metadata": {},
   "outputs": [],
   "source": [
    "# 1. Build the url (only scrape the first page - page 0)\n",
    "page = base_url+letter+\"?page=0\""
   ]
  },
  {
   "cell_type": "code",
   "execution_count": 157,
   "metadata": {},
   "outputs": [
    {
     "data": {
      "text/plain": [
       "<Response [200]>"
      ]
     },
     "execution_count": 157,
     "metadata": {},
     "output_type": "execute_result"
    }
   ],
   "source": [
    "# 2. Call the url\n",
    "response_url = requests.get(page, headers=hdrs)\n",
    "response_url"
   ]
  },
  {
   "cell_type": "code",
   "execution_count": 158,
   "metadata": {},
   "outputs": [],
   "source": [
    "# 3. Transform to soup using html.parser \n",
    "soup = bs4.BeautifulSoup(response_url.text, \"html.parser\")"
   ]
  },
  {
   "cell_type": "code",
   "execution_count": 159,
   "metadata": {},
   "outputs": [],
   "source": [
    "# 4. Extract the new reviews from this page\n",
    "new_reviews = get_itemlist(soup)"
   ]
  },
  {
   "cell_type": "code",
   "execution_count": 161,
   "metadata": {},
   "outputs": [],
   "source": [
    "# 5. Add the new reviews to the dataframe\n",
    "reviews = reviews.append(new_reviews, sort=False)"
   ]
  },
  {
   "cell_type": "code",
   "execution_count": 162,
   "metadata": {},
   "outputs": [
    {
     "name": "stdout",
     "output_type": "stream",
     "text": [
      "URL: http://www.metacritic.com/browse/albums/artist/a?page=0\n"
     ]
    }
   ],
   "source": [
    "# 6. Print something to show how the process develops\n",
    "print(\"URL:\",page,flush=True)"
   ]
  },
  {
   "cell_type": "markdown",
   "metadata": {},
   "source": [
    "### Tidy up the data and save to disk"
   ]
  },
  {
   "cell_type": "code",
   "execution_count": 164,
   "metadata": {},
   "outputs": [],
   "source": [
    "# Make sure the review scores are numerical (float) types\n",
    "reviews[\"mc_score\"] = reviews[\"mc_score\"].map(float)             # map() function is used to apply a function on all the \n",
    "reviews[\"user_score\"] = reviews[\"user_score\"].map(float)         # elements of specified iterable and return map object"
   ]
  },
  {
   "cell_type": "code",
   "execution_count": 165,
   "metadata": {},
   "outputs": [],
   "source": [
    "# Remove duplicates in case the same page has been scraped more than once\n",
    "reviews = reviews.drop_duplicates()"
   ]
  },
  {
   "cell_type": "code",
   "execution_count": 166,
   "metadata": {},
   "outputs": [],
   "source": [
    "# Save the reviews to a csv file\n",
    "reviews.to_csv(\"reviews.csv\")"
   ]
  },
  {
   "cell_type": "code",
   "execution_count": 167,
   "metadata": {},
   "outputs": [],
   "source": [
    "# Save the reviews to a pkl file\n",
    "reviews.to_pickle(\"reviews.pkl\")      # Pickle is the process of converting a Python object into a byte stream to store it  \n",
    "                                      # in a file/database, maintain program state across sessions, or transport data over \n",
    "                                      # the network"
   ]
  },
  {
   "cell_type": "markdown",
   "metadata": {},
   "source": [
    "### Data processing"
   ]
  },
  {
   "cell_type": "markdown",
   "metadata": {},
   "source": [
    "Create two new columns based on transformations of user score data"
   ]
  },
  {
   "cell_type": "code",
   "execution_count": 168,
   "metadata": {},
   "outputs": [],
   "source": [
    "reviews[\"user_score_inv\"] = reviews[\"user_score\"].map(lambda x:1/x)"
   ]
  },
  {
   "cell_type": "code",
   "execution_count": 169,
   "metadata": {},
   "outputs": [],
   "source": [
    "reviews[\"user_score_log\"] = reviews[\"user_score\"].map(log)"
   ]
  },
  {
   "cell_type": "markdown",
   "metadata": {},
   "source": [
    "### Plot the data"
   ]
  },
  {
   "cell_type": "code",
   "execution_count": 170,
   "metadata": {},
   "outputs": [
    {
     "data": {
      "image/png": "[encoded data removed]",
      "text/plain": [
       "<Figure size 864x504 with 6 Axes>"
      ]
     },
     "metadata": {
      "needs_background": "light"
     },
     "output_type": "display_data"
    }
   ],
   "source": [
    "# Histograms\n",
    "hist = reviews.hist(figsize=(12,7))"
   ]
  },
  {
   "cell_type": "code",
   "execution_count": 172,
   "metadata": {},
   "outputs": [
    {
     "data": {
      "image/png": "[encoded data removed]",
      "text/plain": [
       "<Figure size 432x288 with 1 Axes>"
      ]
     },
     "metadata": {
      "needs_background": "light"
     },
     "output_type": "display_data"
    }
   ],
   "source": [
    "# Scatter diagrams\n",
    "scatter = reviews.plot(kind=\"scatter\", x=\"user_score\", y=\"mc_score\")"
   ]
  },
  {
   "cell_type": "markdown",
   "metadata": {},
   "source": [
    "### Statistical analysis"
   ]
  },
  {
   "cell_type": "code",
   "execution_count": 173,
   "metadata": {},
   "outputs": [
    {
     "data": {
      "text/html": [
       "<div>\n",
       "<style scoped>\n",
       "    .dataframe tbody tr th:only-of-type {\n",
       "        vertical-align: middle;\n",
       "    }\n",
       "\n",
       "    .dataframe tbody tr th {\n",
       "        vertical-align: top;\n",
       "    }\n",
       "\n",
       "    .dataframe thead th {\n",
       "        text-align: right;\n",
       "    }\n",
       "</style>\n",
       "<table border=\"1\" class=\"dataframe\">\n",
       "  <thead>\n",
       "    <tr style=\"text-align: right;\">\n",
       "      <th></th>\n",
       "      <th>Unnamed: 0</th>\n",
       "      <th>mc_score</th>\n",
       "      <th>user_score</th>\n",
       "      <th>user_score_inv</th>\n",
       "      <th>user_score_log</th>\n",
       "    </tr>\n",
       "  </thead>\n",
       "  <tbody>\n",
       "    <tr>\n",
       "      <th>Unnamed: 0</th>\n",
       "      <td>1.000000</td>\n",
       "      <td>0.036952</td>\n",
       "      <td>-0.062906</td>\n",
       "      <td>0.041418</td>\n",
       "      <td>-0.052027</td>\n",
       "    </tr>\n",
       "    <tr>\n",
       "      <th>mc_score</th>\n",
       "      <td>0.036952</td>\n",
       "      <td>1.000000</td>\n",
       "      <td>0.423161</td>\n",
       "      <td>-0.414091</td>\n",
       "      <td>0.420565</td>\n",
       "    </tr>\n",
       "    <tr>\n",
       "      <th>user_score</th>\n",
       "      <td>-0.062906</td>\n",
       "      <td>0.423161</td>\n",
       "      <td>1.000000</td>\n",
       "      <td>-0.987992</td>\n",
       "      <td>0.997174</td>\n",
       "    </tr>\n",
       "    <tr>\n",
       "      <th>user_score_inv</th>\n",
       "      <td>0.041418</td>\n",
       "      <td>-0.414091</td>\n",
       "      <td>-0.987992</td>\n",
       "      <td>1.000000</td>\n",
       "      <td>-0.996795</td>\n",
       "    </tr>\n",
       "    <tr>\n",
       "      <th>user_score_log</th>\n",
       "      <td>-0.052027</td>\n",
       "      <td>0.420565</td>\n",
       "      <td>0.997174</td>\n",
       "      <td>-0.996795</td>\n",
       "      <td>1.000000</td>\n",
       "    </tr>\n",
       "  </tbody>\n",
       "</table>\n",
       "</div>"
      ],
      "text/plain": [
       "                Unnamed: 0  mc_score  user_score  user_score_inv  \\\n",
       "Unnamed: 0        1.000000  0.036952   -0.062906        0.041418   \n",
       "mc_score          0.036952  1.000000    0.423161       -0.414091   \n",
       "user_score       -0.062906  0.423161    1.000000       -0.987992   \n",
       "user_score_inv    0.041418 -0.414091   -0.987992        1.000000   \n",
       "user_score_log   -0.052027  0.420565    0.997174       -0.996795   \n",
       "\n",
       "                user_score_log  \n",
       "Unnamed: 0           -0.052027  \n",
       "mc_score              0.420565  \n",
       "user_score            0.997174  \n",
       "user_score_inv       -0.996795  \n",
       "user_score_log        1.000000  "
      ]
     },
     "execution_count": 173,
     "metadata": {},
     "output_type": "execute_result"
    }
   ],
   "source": [
    "# Simple correlations\n",
    "reviews.corr()"
   ]
  },
  {
   "cell_type": "markdown",
   "metadata": {},
   "source": [
    "## Support for multiple pages\n",
    "SOURCE: https://github.com/qut-dmrc/web-scraping-intro-workshop/blob/eed5d2a9dcc328dc2988b31ac0b8adadc2f0561c/web-scraping-intro-final.ipynb\n",
    "\n",
    "This notebook scrapes http://www.metacritic.com/browse/albums/artist and saves the data in a dataframe. The script iterates through the webpage structure (structured by the first letter of the artist's name), and over multiple pages within each letter."
   ]
  },
  {
   "cell_type": "markdown",
   "metadata": {},
   "source": [
    "### Import packages"
   ]
  },
  {
   "cell_type": "code",
   "execution_count": 174,
   "metadata": {},
   "outputs": [],
   "source": [
    "import bs4\n",
    "import requests\n",
    "import pandas as pd\n",
    "from os.path import isfile"
   ]
  },
  {
   "cell_type": "markdown",
   "metadata": {},
   "source": [
    "### Initialise global variables"
   ]
  },
  {
   "cell_type": "code",
   "execution_count": 186,
   "metadata": {},
   "outputs": [],
   "source": [
    "# This is the base_url\n",
    "base_url = \"http://www.metacritic.com/browse/albums/artist\""
   ]
  },
  {
   "cell_type": "code",
   "execution_count": 187,
   "metadata": {},
   "outputs": [],
   "source": [
    "# The bot pretends to be a Chrome browser\n",
    "hdrs = {\"User-Agent\": \"Chrome/78.0\"}"
   ]
  },
  {
   "cell_type": "code",
   "execution_count": 188,
   "metadata": {},
   "outputs": [],
   "source": [
    "# Columns labels\n",
    "colnames = [\"artistname\", \"albumname\", \"release_date\", \"mc_score\", \"user_score\", \"url\"]"
   ]
  },
  {
   "cell_type": "code",
   "execution_count": 189,
   "metadata": {},
   "outputs": [],
   "source": [
    "# The pages are sorted in alphabetical order based on the artist's name.\n",
    "# Artists with strange first letters are put in a page without a letter (the first one)\n",
    "\n",
    "letters = [\"\",\"/a\",\"/b\",\"/c\",\"/d\",\"/e\",\"/f\",\"/g\",\"/h\",\"/i\",\"/j\",\"/k\",\"/l\",\"/m\",\n",
    "           \"/n\",\"/o\",\"/p\",\"/q\",\"/r\",\"/s\",\"/t\",\"/u\",\"/v\",\"/w\",\"/x\",\"/y\",\"/z\"]\n",
    "\n",
    "# if you want to limit the number of pages to scrape, you simply shorten this list - e.g.\n",
    "letters = [\"/a\",\"/b\"]"
   ]
  },
  {
   "cell_type": "markdown",
   "metadata": {},
   "source": [
    "### Function definitions"
   ]
  },
  {
   "cell_type": "markdown",
   "metadata": {},
   "source": [
    "Add a new function to find the number of pages of reviews available for the current letter"
   ]
  },
  {
   "cell_type": "code",
   "execution_count": 198,
   "metadata": {},
   "outputs": [],
   "source": [
    "# Processes a beautiful_soup data structure and returns a the page count\n",
    "def get_page_count(thesoup):\n",
    "    # try to find all div tags of class \"pages\"\n",
    "    page_divs = soup.find_all(\"div\",class_=[\"pages\"])\n",
    "    page_count = 1\n",
    "    \n",
    "    # if there is a div of class \"pages\", then\n",
    "    if len(page_divs)>0:\n",
    "        \n",
    "        # try to find all a-tags\n",
    "        a_tags = page_divs[0].find_all(\"a\")\n",
    "        \n",
    "        # if there were a-tag(s) to be found, then pick the last one in order to get the max page number\n",
    "        if len(a_tags)>0:\n",
    "            page_count = int(a_tags[-1].get_text())\n",
    "\n",
    "    return page_count"
   ]
  },
  {
   "cell_type": "markdown",
   "metadata": {},
   "source": [
    "The function **get_itemlist** is unchanged from the previous section\n",
    "\n"
   ]
  },
  {
   "cell_type": "markdown",
   "metadata": {},
   "source": [
    "### The script"
   ]
  },
  {
   "cell_type": "code",
   "execution_count": 191,
   "metadata": {},
   "outputs": [
    {
     "name": "stdout",
     "output_type": "stream",
     "text": [
      "108\n"
     ]
    }
   ],
   "source": [
    "# Prepare the dataframe\n",
    "\n",
    "# If there is already a file ....\n",
    "if isfile(\"reviews.pkl\"):    \n",
    "    # Load reviews from that file\n",
    "    reviews = pd.read_pickle(\"reviews.pkl\")\n",
    "\n",
    "else:\n",
    "    # otherwise, set up an empty dataframe\n",
    "    reviews = pd.DataFrame(columns=colnames)\n",
    "# show the number of reviews in the dataframe\n",
    "\n",
    "print(len(reviews))"
   ]
  },
  {
   "cell_type": "code",
   "execution_count": null,
   "metadata": {},
   "outputs": [
    {
     "name": "stdout",
     "output_type": "stream",
     "text": [
      "URL: http://www.metacritic.com/browse/albums/artist/a?page=0\n",
      "URL: http://www.metacritic.com/browse/albums/artist/a?page=1\n",
      "URL: http://www.metacritic.com/browse/albums/artist/a?page=2\n",
      "URL: http://www.metacritic.com/browse/albums/artist/a?page=3\n",
      "URL: http://www.metacritic.com/browse/albums/artist/a?page=4\n",
      "URL: http://www.metacritic.com/browse/albums/artist/a?page=5\n",
      "URL: http://www.metacritic.com/browse/albums/artist/a?page=6\n",
      "URL: http://www.metacritic.com/browse/albums/artist/a?page=7\n",
      "URL: http://www.metacritic.com/browse/albums/artist/a?page=8\n",
      "URL: http://www.metacritic.com/browse/albums/artist/a?page=9\n",
      "URL: http://www.metacritic.com/browse/albums/artist/a?page=10\n",
      "URL: http://www.metacritic.com/browse/albums/artist/b?page=0\n",
      "URL: http://www.metacritic.com/browse/albums/artist/b?page=1\n",
      "URL: http://www.metacritic.com/browse/albums/artist/b?page=2\n",
      "URL: http://www.metacritic.com/browse/albums/artist/b?page=3\n",
      "URL: http://www.metacritic.com/browse/albums/artist/b?page=4\n",
      "URL: http://www.metacritic.com/browse/albums/artist/b?page=5\n",
      "URL: http://www.metacritic.com/browse/albums/artist/b?page=6\n"
     ]
    }
   ],
   "source": [
    "# Iterate over the list of letters\n",
    "for lett in letters:\n",
    "    \n",
    "    # Initialise page_count and counter for this letter\n",
    "    page_count= 1\n",
    "    i=0\n",
    "    \n",
    "    while i < page_count:\n",
    "    \n",
    "        # 1. Build up the url\n",
    "        thepage = base_url+lett+\"?page=\"+str(i)\n",
    "\n",
    "        # 2. Call the url \n",
    "        response_url = requests.get(thepage, headers=hdrs)\n",
    "\n",
    "        # 3. Transform to soup using html.parser \n",
    "        soup = bs4.BeautifulSoup(response_url.text, \"html.parser\")\n",
    "\n",
    "        # 4. Extract the new reviews from this page\n",
    "        new_reviews = get_itemlist(soup)\n",
    "\n",
    "        # 5. Add the new reviews to the dataframe\n",
    "        reviews = reviews.append(new_reviews, sort=False)\n",
    "\n",
    "        # 6. Print something to show how the process develops\n",
    "        print(\"URL:\",thepage,flush=True)\n",
    "\n",
    "        # If this is the first page for this letter, then extract the page count\n",
    "        if i == 0:\n",
    "            page_count=get_page_count(soup)\n",
    "\n",
    "        # Increase the counter\n",
    "        i += 1\n",
    "\n",
    "    # *** Tidy up the data and save to disk after each letter has been scraped ***\n",
    "    # Make sure the review scores are numerical (float) types\n",
    "    reviews[\"mc_score\"] = reviews[\"mc_score\"].map(float)            \n",
    "    reviews[\"user_score\"] = reviews[\"user_score\"].map(float)        \n",
    "\n",
    "    # Remove duplicates in case the same page has been scraped more than once\n",
    "    reviews = reviews.drop_duplicates()\n",
    "    \n",
    "    # Save the reviews to a csv file\n",
    "    reviews.to_csv(\"reviews.csv\")\n",
    "    \n",
    "    # Save the reviews to a pkl file\n",
    "    reviews.to_pickle(\"reviews.pkl\")"
   ]
  },
  {
   "cell_type": "markdown",
   "metadata": {},
   "source": [
    "### Check the result"
   ]
  },
  {
   "cell_type": "code",
   "execution_count": null,
   "metadata": {},
   "outputs": [],
   "source": [
    "# How many reviews are there in the dataframe?\n",
    "len(reviews)"
   ]
  },
  {
   "cell_type": "code",
   "execution_count": null,
   "metadata": {},
   "outputs": [],
   "source": [
    "# Have a look at the first five items\n",
    "reviews[:5]"
   ]
  },
  {
   "cell_type": "markdown",
   "metadata": {},
   "source": [
    "### Data processing"
   ]
  },
  {
   "cell_type": "code",
   "execution_count": null,
   "metadata": {},
   "outputs": [],
   "source": [
    "reviews[\"user_score_inv\"] = reviews[\"user_score\"].map(lambda x:1/x)"
   ]
  },
  {
   "cell_type": "code",
   "execution_count": null,
   "metadata": {},
   "outputs": [],
   "source": [
    "reviews[\"user_score_log\"] = reviews[\"user_score\"].map(log)"
   ]
  },
  {
   "cell_type": "markdown",
   "metadata": {},
   "source": [
    "### Plot the data"
   ]
  },
  {
   "cell_type": "code",
   "execution_count": null,
   "metadata": {},
   "outputs": [],
   "source": [
    "# Histograms\n",
    "hist = reviews.hist(figsize = (12,7))"
   ]
  },
  {
   "cell_type": "code",
   "execution_count": null,
   "metadata": {},
   "outputs": [],
   "source": [
    "# Scatter diagram\n",
    "scatter = reviews.plot(kind=\"scatter\",x=\"user_score\",y=\"mc_score\")"
   ]
  },
  {
   "cell_type": "markdown",
   "metadata": {},
   "source": [
    "### Statistical analysis"
   ]
  },
  {
   "cell_type": "code",
   "execution_count": null,
   "metadata": {},
   "outputs": [],
   "source": [
    "# Simple correlations\n",
    "reviews.corr()"
   ]
  }
 ],
 "metadata": {
  "hide_input": false,
  "kernelspec": {
   "display_name": "Python 3",
   "language": "python",
   "name": "python3"
  },
  "language_info": {
   "codemirror_mode": {
    "name": "ipython",
    "version": 3
   },
   "file_extension": ".py",
   "mimetype": "text/x-python",
   "name": "python",
   "nbconvert_exporter": "python",
   "pygments_lexer": "ipython3",
   "version": "3.7.3"
  },
  "toc": {
   "base_numbering": 1,
   "nav_menu": {},
   "number_sections": true,
   "sideBar": true,
   "skip_h1_title": false,
   "title_cell": "Table of Contents",
   "title_sidebar": "Contents",
   "toc_cell": false,
   "toc_position": {
    "height": "calc(100% - 180px)",
    "left": "10px",
    "top": "150px",
    "width": "178.575px"
   },
   "toc_section_display": true,
   "toc_window_display": true
  },
  "varInspector": {
   "cols": {
    "lenName": 16,
    "lenType": 16,
    "lenVar": 40
   },
   "kernels_config": {
    "python": {
     "delete_cmd_postfix": "",
     "delete_cmd_prefix": "del ",
     "library": "var_list.py",
     "varRefreshCmd": "print(var_dic_list())"
    },
    "r": {
     "delete_cmd_postfix": ") ",
     "delete_cmd_prefix": "rm(",
     "library": "var_list.r",
     "varRefreshCmd": "cat(var_dic_list()) "
    }
   },
   "types_to_exclude": [
    "module",
    "function",
    "builtin_function_or_method",
    "instance",
    "_Feature"
   ],
   "window_display": false
  }
 },
 "nbformat": 4,
 "nbformat_minor": 2
}
