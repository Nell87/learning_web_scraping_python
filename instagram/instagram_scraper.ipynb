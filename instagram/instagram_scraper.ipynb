{
 "cells": [
  {
   "cell_type": "markdown",
   "metadata": {},
   "source": [
    "### SOURCES: \n",
    "When the Entire Page Has Infinite Scroll\n",
    "- https://michaeljsanders.com/2017/05/12/scrapin-and-scrollin.html\n",
    "\n",
    "General Web Scraping Tutorials\n",
    "- https://github.com/pwikstrom/build-a-bot\n",
    "- https://medium.com/@srujana.rao2/scraping-instagram-with-python-using-selenium-and-beautiful-soup-8b72c186a058\n",
    "\n",
    "Remove duplicates from list\n",
    "- https://thispointer.com/python-how-to-remove-duplicates-from-a-list/\n",
    "\n",
    "Get the JSON from the HTML\n",
    "- https://python-forum.io/Thread-ReGex-With-Python?page=3"
   ]
  },
  {
   "cell_type": "markdown",
   "metadata": {},
   "source": [
    "### Basic tips about jupyter notebook"
   ]
  },
  {
   "cell_type": "markdown",
   "metadata": {},
   "source": [
    "SOURCE: https://www.dataquest.io/blog/jupyter-notebook-tips-tricks-shortcuts/\n",
    "\n",
    "- **Esc** will take you into command mode where you can navigate around your notebook with arrow keys.\n",
    "\n",
    "- In command mode:\n",
    "    - **A** to insert a new cell above the current cell, **B** to insert a new cell below.\n",
    "    - **M** to change the current cell to Markdown, **Y** to change it back to code\n",
    "    - **D + D** (press the key twice) to delete the current cell\n",
    "    \n",
    "- **Enter** will take you from command mode back into edit mode for the given cell.\n",
    "- You can also use **Shift + M** to merge multiple cells.\n",
    "\n"
   ]
  },
  {
   "cell_type": "markdown",
   "metadata": {},
   "source": [
    "### Import packages"
   ]
  },
  {
   "cell_type": "code",
   "execution_count": 1,
   "metadata": {},
   "outputs": [],
   "source": [
    "# Import python modules\n",
    "import bs4        # BeautifulSoup4 is a Python package for parsing HTML and XML documents\n",
    "import time       # We need to wait 3 seconds every time that we scroll in instagram\n",
    "import requests   # It allows you to send HTTP requests in Python\n",
    "import re\n",
    "import json \n",
    "from datetime import datetime\n",
    "import pandas as pd\n",
    "import mysql.connector\n",
    "\n",
    "from selenium import webdriver   # A collection of language specific bindings to drive a browser \n",
    "from webdriver_manager.chrome import ChromeDriverManager   # allows to automate the management of the binary drivers \n",
    "                                                           # (e.g. chromedriver, geckodriver...) required by Selenium WebDriver."
   ]
  },
  {
   "cell_type": "markdown",
   "metadata": {},
   "source": [
    "### Initialise global variables"
   ]
  },
  {
   "cell_type": "code",
   "execution_count": 3,
   "metadata": {},
   "outputs": [],
   "source": [
    "# Hashtag/s\n",
    "hashtag='laveganesa'\n",
    "\n",
    "# The bot pretends to be a Chrome browser\n",
    "hdrs = {\"User-Agent\": \"Chrome/78.0\"}\n",
    "\n",
    "# Columns labels\n",
    "db_user_names = [\"name\", \"username\"]\n",
    "db_post_names = [\"datetime\", \"likes\"]\n",
    "\n",
    "# Import credentials\n",
    "%run credentials2.ipynb"
   ]
  },
  {
   "cell_type": "markdown",
   "metadata": {},
   "source": [
    "### Function definitions"
   ]
  },
  {
   "cell_type": "markdown",
   "metadata": {},
   "source": [
    "#### Removing duplicates from a list"
   ]
  },
  {
   "cell_type": "code",
   "execution_count": 4,
   "metadata": {},
   "outputs": [],
   "source": [
    "# Let's remove duplicates (keepping the order of unique elements as it was in the original list)\n",
    "def removeDuplicates(list_elements):\n",
    "    \n",
    "    # Create an empty list to store unique elements\n",
    "    unique_list = []\n",
    "    \n",
    "    # Iterate over the original list and for each element\n",
    "    # add it to uniqueList, if its not already there.\n",
    "    for elem in list_elements:\n",
    "        if elem not in unique_list:\n",
    "            unique_list.append(elem)\n",
    "    \n",
    "    # Return the list of unique elements        \n",
    "    return unique_list"
   ]
  },
  {
   "cell_type": "markdown",
   "metadata": {},
   "source": [
    "#### Remove emojis from a string"
   ]
  },
  {
   "cell_type": "code",
   "execution_count": 5,
   "metadata": {},
   "outputs": [],
   "source": [
    "# Let's transform the emojis into text\n",
    "def deEmojify(inputString):\n",
    "    return inputString.encode('ascii', 'ignore').decode('ascii')"
   ]
  },
  {
   "cell_type": "markdown",
   "metadata": {},
   "source": [
    "#### List to tuple and remove duplicates"
   ]
  },
  {
   "cell_type": "code",
   "execution_count": 6,
   "metadata": {},
   "outputs": [],
   "source": [
    "def listToTuple(data):\n",
    "    for i in range(0,len(data)):\n",
    "        data[i] = tuple(data[i])\n",
    "        \n",
    "    data=list(set(data))\n",
    "    return data"
   ]
  },
  {
   "cell_type": "markdown",
   "metadata": {},
   "source": [
    "#### Scroll and store href of every post"
   ]
  },
  {
   "cell_type": "code",
   "execution_count": 7,
   "metadata": {},
   "outputs": [],
   "source": [
    "# Selenium script to scroll to the bottom. We need to wait 3 seconds to the next batch of data to load, then continue scrolling\n",
    "# It will continue to do this until the page stops loading new data.\n",
    "# Meanwhile, we'll store in a list all the href from every post\n",
    "\n",
    "def getHrefInstagram(hashtag):\n",
    "    \n",
    "    # Initialise browser\n",
    "    browser = webdriver.Chrome(ChromeDriverManager().install())\n",
    "    browser.get('https://www.instagram.com/explore/tags/'+hashtag)   \n",
    "\n",
    "    # Scrolling and storing process    \n",
    "    length_page = browser.execute_script(\"window.scrollTo(0, document.body.scrollHeight);var lenOfPage=document.body.scrollHeight;return lenOfPage;\")\n",
    "\n",
    "    match=False\n",
    "    list_href=[]\n",
    "\n",
    "    while(match==False):\n",
    "        last_count = length_page\n",
    "        time.sleep(3)\n",
    "        length_page = browser.execute_script(\"window.scrollTo(0, document.body.scrollHeight);var lenOfPage=document.body.scrollHeight;return lenOfPage;\")\n",
    "\n",
    "        if last_count==length_page:\n",
    "            match=True\n",
    "\n",
    "        # Grab the source code\n",
    "        source = browser.page_source\n",
    "\n",
    "        # Transform to soup using html.parser (beautify)\n",
    "        soup = bs4.BeautifulSoup(source, \"html.parser\")\n",
    "\n",
    "        # Find all div-tags of class \"v1Nh3 kIKUG  _bz0w\" \n",
    "        links_posts = soup.find_all(\"div\", class_=[\"v1Nh3 kIKUG _bz0w\"]) \n",
    "\n",
    "        # Extract the href from every post\n",
    "        for post in links_posts:\n",
    "\n",
    "            ind_link = post.find(\"a\")\n",
    "            href = \"https://www.instagram.com\" + ind_link.get(\"href\")\n",
    "            list_href +=[href]\n",
    "            \n",
    "    # Remove the duplicates\n",
    "    final_list_href = removeDuplicates(list_href)  \n",
    "    \n",
    "    return final_list_href"
   ]
  },
  {
   "cell_type": "markdown",
   "metadata": {},
   "source": [
    "#### Get and store useful information "
   ]
  },
  {
   "cell_type": "code",
   "execution_count": 8,
   "metadata": {},
   "outputs": [],
   "source": [
    "def infoEveryPost(final_list_href):\n",
    "\n",
    "    db_user = []\n",
    "    db_post = [] \n",
    "    \n",
    "    for post in final_list_href:\n",
    "        \n",
    "        # A. GETTING JSON\n",
    "   \n",
    "        # A.1. Call the url\n",
    "        response_url = requests.get(post, headers=hdrs) \n",
    "\n",
    "        # A.2. Get the JSON from the url. There we'll find the graphql with the data we want\n",
    "        source = response_url.text\n",
    "        data_json = re.findall(r'<script type=\"text/javascript\">window._sharedData = (.*);</script>', source)[0]\n",
    "        data_json = json.loads(data_json)     # it gives back a python dictionary.\n",
    "\n",
    "        # A.3. Let's go to the section we're interested in. Here ['PostPage'][0] contain a list (it has []), \n",
    "        # therefore, we use [0] to get get contented inside this list and continue navigating. \n",
    "        data = data_json['entry_data']['PostPage'][0]['graphql']['shortcode_media']   \n",
    "\n",
    "        # B. GETTING INTERESTING INFORMATION FROM THE JSON\n",
    "\n",
    "        # B.1. Empty item\n",
    "        item_user = []\n",
    "        item_post = []    \n",
    "   \n",
    "        # B.2. user database\n",
    "        username = data['owner']['username']\n",
    "        temp = data['owner']['full_name']\n",
    "        name = deEmojify(temp)\n",
    "        \n",
    "        item_user += [username]   \n",
    "        item_user += [name]\n",
    "        \n",
    "        # B.3. post database\n",
    "        likes = data['edge_media_preview_like']['count']\n",
    "        \n",
    "        from datetime import datetime\n",
    "        datetime = data['taken_at_timestamp']\n",
    "        #temp = datetime.fromtimestamp(temp)\n",
    "        #datetime = temp.strftime('%Y-%m-%d %H:%M:%S')\n",
    "        \n",
    "        item_post += [likes]\n",
    "        item_post += [datetime]\n",
    "        \n",
    "        # C. ADD EVERYTHING TO THE LIST\n",
    "        db_user += [item_user]\n",
    "        db_post += [item_post] \n",
    "\n",
    "    \n",
    "    \n",
    "    # D. TIDY UP THE DATA  \n",
    "    db_user = listToTuple(db_user)\n",
    "    db_post = listToTuple(db_post)\n",
    "\n",
    "    # E. STORE DATA IN MYSQL DATABASE\n",
    "\n",
    "    connection = mysql.connector.connect(host=host,\n",
    "                                database=dbname,\n",
    "                                user= user,\n",
    "                                password=password)\n",
    "    \n",
    "    mycursor = connection.cursor()\n",
    " \n",
    "    sql_post = \"INSERT INTO post(likes, datetime) VALUES (%s, %s)\"\n",
    "    sql_user = \"INSERT INTO user(username, name) VALUES (%s, %s)\"\n",
    "\n",
    "    mycursor.executemany(sql_user,db_user)\n",
    "    mycursor.executemany(sql_post, db_post)\n",
    "    \n",
    "    connection.commit()\n",
    "    connection.close()\n",
    "   \n",
    "\n",
    "    print(\"Success. Data stored!\") "
   ]
  },
  {
   "cell_type": "markdown",
   "metadata": {},
   "source": [
    "### The script"
   ]
  },
  {
   "cell_type": "code",
   "execution_count": 9,
   "metadata": {},
   "outputs": [
    {
     "name": "stdout",
     "output_type": "stream",
     "text": [
      "\n",
      "Looking for [chromedriver 78.0.3904.70 win32] driver in cache \n",
      "File found in cache by path [C:\\Users\\saram\\.wdm\\drivers\\chromedriver\\78.0.3904.70\\win32\\chromedriver.exe]\n"
     ]
    }
   ],
   "source": [
    "# Get the href of every post\n",
    "href_everylink = getHrefInstagram(hashtag)"
   ]
  },
  {
   "cell_type": "code",
   "execution_count": 10,
   "metadata": {},
   "outputs": [
    {
     "data": {
      "text/plain": [
       "['https://www.instagram.com/p/B42m41iIX4h/',\n",
       " 'https://www.instagram.com/p/BdQKw9Pnqxr/',\n",
       " 'https://www.instagram.com/p/Buj3NJIFzTa/',\n",
       " 'https://www.instagram.com/p/BWaEyDSgZuq/',\n",
       " 'https://www.instagram.com/p/BIVr8TdDn_A/',\n",
       " 'https://www.instagram.com/p/B2bYcbMCePz/',\n",
       " 'https://www.instagram.com/p/B2g9HwhCULe/',\n",
       " 'https://www.instagram.com/p/BuyWogMlAPR/',\n",
       " 'https://www.instagram.com/p/B4MwCMfISRp/',\n",
       " 'https://www.instagram.com/p/B47v4IZoBUl/']"
      ]
     },
     "execution_count": 10,
     "metadata": {},
     "output_type": "execute_result"
    }
   ],
   "source": [
    "href_everylink2= href_everylink[0:10]\n",
    "href_everylink2"
   ]
  },
  {
   "cell_type": "code",
   "execution_count": 12,
   "metadata": {},
   "outputs": [
    {
     "ename": "IntegrityError",
     "evalue": "1062 (23000): Duplicate entry 'fran.godoy.r' for key 'username_UNIQUE'",
     "output_type": "error",
     "traceback": [
      "\u001b[1;31m---------------------------------------------------------------------------\u001b[0m",
      "\u001b[1;31mIntegrityError\u001b[0m                            Traceback (most recent call last)",
      "\u001b[1;32m<ipython-input-12-86d7e50ec265>\u001b[0m in \u001b[0;36m<module>\u001b[1;34m\u001b[0m\n\u001b[0;32m      1\u001b[0m \u001b[1;31m# Get information from every post and store it in the database\u001b[0m\u001b[1;33m\u001b[0m\u001b[1;33m\u001b[0m\u001b[1;33m\u001b[0m\u001b[0m\n\u001b[1;32m----> 2\u001b[1;33m \u001b[0ma\u001b[0m\u001b[1;33m=\u001b[0m\u001b[0minfoEveryPost\u001b[0m\u001b[1;33m(\u001b[0m\u001b[0mhref_everylink2\u001b[0m\u001b[1;33m)\u001b[0m\u001b[1;33m\u001b[0m\u001b[1;33m\u001b[0m\u001b[0m\n\u001b[0m\u001b[0;32m      3\u001b[0m \u001b[0ma\u001b[0m\u001b[1;33m\u001b[0m\u001b[1;33m\u001b[0m\u001b[0m\n",
      "\u001b[1;32m<ipython-input-8-73708b47ff9c>\u001b[0m in \u001b[0;36minfoEveryPost\u001b[1;34m(final_list_href)\u001b[0m\n\u001b[0;32m     67\u001b[0m     \u001b[0msql_user\u001b[0m \u001b[1;33m=\u001b[0m \u001b[1;34m\"INSERT INTO user(username, name) VALUES (%s, %s)\"\u001b[0m\u001b[1;33m\u001b[0m\u001b[1;33m\u001b[0m\u001b[0m\n\u001b[0;32m     68\u001b[0m \u001b[1;33m\u001b[0m\u001b[0m\n\u001b[1;32m---> 69\u001b[1;33m     \u001b[0mmycursor\u001b[0m\u001b[1;33m.\u001b[0m\u001b[0mexecutemany\u001b[0m\u001b[1;33m(\u001b[0m\u001b[0msql_user\u001b[0m\u001b[1;33m,\u001b[0m\u001b[0mdb_user\u001b[0m\u001b[1;33m)\u001b[0m\u001b[1;33m\u001b[0m\u001b[1;33m\u001b[0m\u001b[0m\n\u001b[0m\u001b[0;32m     70\u001b[0m     \u001b[0mmycursor\u001b[0m\u001b[1;33m.\u001b[0m\u001b[0mexecutemany\u001b[0m\u001b[1;33m(\u001b[0m\u001b[0msql_post\u001b[0m\u001b[1;33m,\u001b[0m \u001b[0mdb_post\u001b[0m\u001b[1;33m)\u001b[0m\u001b[1;33m\u001b[0m\u001b[1;33m\u001b[0m\u001b[0m\n\u001b[0;32m     71\u001b[0m \u001b[1;33m\u001b[0m\u001b[0m\n",
      "\u001b[1;32m~\\Anaconda3\\lib\\site-packages\\mysql\\connector\\cursor.py\u001b[0m in \u001b[0;36mexecutemany\u001b[1;34m(self, operation, seq_params)\u001b[0m\n\u001b[0;32m    652\u001b[0m             \u001b[0mstmt\u001b[0m \u001b[1;33m=\u001b[0m \u001b[0mself\u001b[0m\u001b[1;33m.\u001b[0m\u001b[0m_batch_insert\u001b[0m\u001b[1;33m(\u001b[0m\u001b[0moperation\u001b[0m\u001b[1;33m,\u001b[0m \u001b[0mseq_params\u001b[0m\u001b[1;33m)\u001b[0m\u001b[1;33m\u001b[0m\u001b[1;33m\u001b[0m\u001b[0m\n\u001b[0;32m    653\u001b[0m             \u001b[1;32mif\u001b[0m \u001b[0mstmt\u001b[0m \u001b[1;32mis\u001b[0m \u001b[1;32mnot\u001b[0m \u001b[1;32mNone\u001b[0m\u001b[1;33m:\u001b[0m\u001b[1;33m\u001b[0m\u001b[1;33m\u001b[0m\u001b[0m\n\u001b[1;32m--> 654\u001b[1;33m                 \u001b[1;32mreturn\u001b[0m \u001b[0mself\u001b[0m\u001b[1;33m.\u001b[0m\u001b[0mexecute\u001b[0m\u001b[1;33m(\u001b[0m\u001b[0mstmt\u001b[0m\u001b[1;33m)\u001b[0m\u001b[1;33m\u001b[0m\u001b[1;33m\u001b[0m\u001b[0m\n\u001b[0m\u001b[0;32m    655\u001b[0m \u001b[1;33m\u001b[0m\u001b[0m\n\u001b[0;32m    656\u001b[0m         \u001b[0mrowcnt\u001b[0m \u001b[1;33m=\u001b[0m \u001b[1;36m0\u001b[0m\u001b[1;33m\u001b[0m\u001b[1;33m\u001b[0m\u001b[0m\n",
      "\u001b[1;32m~\\Anaconda3\\lib\\site-packages\\mysql\\connector\\cursor.py\u001b[0m in \u001b[0;36mexecute\u001b[1;34m(self, operation, params, multi)\u001b[0m\n\u001b[0;32m    549\u001b[0m         \u001b[1;32melse\u001b[0m\u001b[1;33m:\u001b[0m\u001b[1;33m\u001b[0m\u001b[1;33m\u001b[0m\u001b[0m\n\u001b[0;32m    550\u001b[0m             \u001b[1;32mtry\u001b[0m\u001b[1;33m:\u001b[0m\u001b[1;33m\u001b[0m\u001b[1;33m\u001b[0m\u001b[0m\n\u001b[1;32m--> 551\u001b[1;33m                 \u001b[0mself\u001b[0m\u001b[1;33m.\u001b[0m\u001b[0m_handle_result\u001b[0m\u001b[1;33m(\u001b[0m\u001b[0mself\u001b[0m\u001b[1;33m.\u001b[0m\u001b[0m_connection\u001b[0m\u001b[1;33m.\u001b[0m\u001b[0mcmd_query\u001b[0m\u001b[1;33m(\u001b[0m\u001b[0mstmt\u001b[0m\u001b[1;33m)\u001b[0m\u001b[1;33m)\u001b[0m\u001b[1;33m\u001b[0m\u001b[1;33m\u001b[0m\u001b[0m\n\u001b[0m\u001b[0;32m    552\u001b[0m             \u001b[1;32mexcept\u001b[0m \u001b[0merrors\u001b[0m\u001b[1;33m.\u001b[0m\u001b[0mInterfaceError\u001b[0m\u001b[1;33m:\u001b[0m\u001b[1;33m\u001b[0m\u001b[1;33m\u001b[0m\u001b[0m\n\u001b[0;32m    553\u001b[0m                 \u001b[1;32mif\u001b[0m \u001b[0mself\u001b[0m\u001b[1;33m.\u001b[0m\u001b[0m_connection\u001b[0m\u001b[1;33m.\u001b[0m\u001b[0m_have_next_result\u001b[0m\u001b[1;33m:\u001b[0m  \u001b[1;31m# pylint: disable=W0212\u001b[0m\u001b[1;33m\u001b[0m\u001b[1;33m\u001b[0m\u001b[0m\n",
      "\u001b[1;32m~\\Anaconda3\\lib\\site-packages\\mysql\\connector\\connection.py\u001b[0m in \u001b[0;36mcmd_query\u001b[1;34m(self, query, raw, buffered, raw_as_string)\u001b[0m\n\u001b[0;32m    488\u001b[0m         \u001b[1;32mif\u001b[0m \u001b[1;32mnot\u001b[0m \u001b[0misinstance\u001b[0m\u001b[1;33m(\u001b[0m\u001b[0mquery\u001b[0m\u001b[1;33m,\u001b[0m \u001b[0mbytes\u001b[0m\u001b[1;33m)\u001b[0m\u001b[1;33m:\u001b[0m\u001b[1;33m\u001b[0m\u001b[1;33m\u001b[0m\u001b[0m\n\u001b[0;32m    489\u001b[0m             \u001b[0mquery\u001b[0m \u001b[1;33m=\u001b[0m \u001b[0mquery\u001b[0m\u001b[1;33m.\u001b[0m\u001b[0mencode\u001b[0m\u001b[1;33m(\u001b[0m\u001b[1;34m'utf-8'\u001b[0m\u001b[1;33m)\u001b[0m\u001b[1;33m\u001b[0m\u001b[1;33m\u001b[0m\u001b[0m\n\u001b[1;32m--> 490\u001b[1;33m         \u001b[0mresult\u001b[0m \u001b[1;33m=\u001b[0m \u001b[0mself\u001b[0m\u001b[1;33m.\u001b[0m\u001b[0m_handle_result\u001b[0m\u001b[1;33m(\u001b[0m\u001b[0mself\u001b[0m\u001b[1;33m.\u001b[0m\u001b[0m_send_cmd\u001b[0m\u001b[1;33m(\u001b[0m\u001b[0mServerCmd\u001b[0m\u001b[1;33m.\u001b[0m\u001b[0mQUERY\u001b[0m\u001b[1;33m,\u001b[0m \u001b[0mquery\u001b[0m\u001b[1;33m)\u001b[0m\u001b[1;33m)\u001b[0m\u001b[1;33m\u001b[0m\u001b[1;33m\u001b[0m\u001b[0m\n\u001b[0m\u001b[0;32m    491\u001b[0m \u001b[1;33m\u001b[0m\u001b[0m\n\u001b[0;32m    492\u001b[0m         \u001b[1;32mif\u001b[0m \u001b[0mself\u001b[0m\u001b[1;33m.\u001b[0m\u001b[0m_have_next_result\u001b[0m\u001b[1;33m:\u001b[0m\u001b[1;33m\u001b[0m\u001b[1;33m\u001b[0m\u001b[0m\n",
      "\u001b[1;32m~\\Anaconda3\\lib\\site-packages\\mysql\\connector\\connection.py\u001b[0m in \u001b[0;36m_handle_result\u001b[1;34m(self, packet)\u001b[0m\n\u001b[0;32m    393\u001b[0m             \u001b[1;32mreturn\u001b[0m \u001b[0mself\u001b[0m\u001b[1;33m.\u001b[0m\u001b[0m_handle_eof\u001b[0m\u001b[1;33m(\u001b[0m\u001b[0mpacket\u001b[0m\u001b[1;33m)\u001b[0m\u001b[1;33m\u001b[0m\u001b[1;33m\u001b[0m\u001b[0m\n\u001b[0;32m    394\u001b[0m         \u001b[1;32melif\u001b[0m \u001b[0mpacket\u001b[0m\u001b[1;33m[\u001b[0m\u001b[1;36m4\u001b[0m\u001b[1;33m]\u001b[0m \u001b[1;33m==\u001b[0m \u001b[1;36m255\u001b[0m\u001b[1;33m:\u001b[0m\u001b[1;33m\u001b[0m\u001b[1;33m\u001b[0m\u001b[0m\n\u001b[1;32m--> 395\u001b[1;33m             \u001b[1;32mraise\u001b[0m \u001b[0merrors\u001b[0m\u001b[1;33m.\u001b[0m\u001b[0mget_exception\u001b[0m\u001b[1;33m(\u001b[0m\u001b[0mpacket\u001b[0m\u001b[1;33m)\u001b[0m\u001b[1;33m\u001b[0m\u001b[1;33m\u001b[0m\u001b[0m\n\u001b[0m\u001b[0;32m    396\u001b[0m \u001b[1;33m\u001b[0m\u001b[0m\n\u001b[0;32m    397\u001b[0m         \u001b[1;31m# We have a text result set\u001b[0m\u001b[1;33m\u001b[0m\u001b[1;33m\u001b[0m\u001b[1;33m\u001b[0m\u001b[0m\n",
      "\u001b[1;31mIntegrityError\u001b[0m: 1062 (23000): Duplicate entry 'fran.godoy.r' for key 'username_UNIQUE'"
     ]
    }
   ],
   "source": [
    "# Get information from every post and store it in the database\n",
    "a=infoEveryPost(href_everylink2)\n",
    "a"
   ]
  },
  {
   "cell_type": "code",
   "execution_count": 15,
   "metadata": {},
   "outputs": [
    {
     "ename": "NameError",
     "evalue": "name 'connection' is not defined",
     "output_type": "error",
     "traceback": [
      "\u001b[1;31m---------------------------------------------------------------------------\u001b[0m",
      "\u001b[1;31mNameError\u001b[0m                                 Traceback (most recent call last)",
      "\u001b[1;32m<ipython-input-15-0da231f0229d>\u001b[0m in \u001b[0;36m<module>\u001b[1;34m\u001b[0m\n\u001b[1;32m----> 1\u001b[1;33m \u001b[0mconnection\u001b[0m\u001b[1;33m.\u001b[0m\u001b[0mclose\u001b[0m\u001b[1;33m(\u001b[0m\u001b[1;33m)\u001b[0m\u001b[1;33m\u001b[0m\u001b[1;33m\u001b[0m\u001b[0m\n\u001b[0m",
      "\u001b[1;31mNameError\u001b[0m: name 'connection' is not defined"
     ]
    }
   ],
   "source": [
    "connection.close()"
   ]
  },
  {
   "cell_type": "code",
   "execution_count": null,
   "metadata": {},
   "outputs": [],
   "source": []
  },
  {
   "cell_type": "markdown",
   "metadata": {},
   "source": [
    "### Testing"
   ]
  },
  {
   "cell_type": "code",
   "execution_count": 101,
   "metadata": {},
   "outputs": [],
   "source": [
    "test = [('distritovegano', '[DISTRITO VEGANO]®'),\n",
    " ('laveganesa', '🌱 La Veganesa 🌱'),\n",
    " ('j.a.romero2', 'POP ART KITSCH RETRO VINTAGE'),\n",
    " ('yas_says_yes', 'Yasmeen Iman A. | Yas'),\n",
    " ('fran.godoy.r', 'Fran Godoy'),\n",
    " ('producciones_leont', 'Leont Torres'),\n",
    " ('scer.sarita', 'Sara Espejo'),\n",
    " ('freshpotatofactory', 'Fresh Potato Factory'),]\n",
    "\n",
    "test2= total_info[0]"
   ]
  },
  {
   "cell_type": "code",
   "execution_count": null,
   "metadata": {},
   "outputs": [],
   "source": [
    "total_info"
   ]
  },
  {
   "cell_type": "code",
   "execution_count": 15,
   "metadata": {},
   "outputs": [],
   "source": [
    "connection = mysql.connector.connect(host=host,\n",
    "                                database=dbname,\n",
    "                                user= user,\n",
    "                                password=password)\n",
    "mycursor = connection.cursor()\n",
    "\n",
    "sql_user = \"INSERT INTO user(username, name) VALUES (%s, %s)\"\n",
    "mycursor.executemany(sql_user, total_info[0])\n",
    "\n",
    "connection.commit()\n",
    "connection.close()"
   ]
  },
  {
   "cell_type": "code",
   "execution_count": 11,
   "metadata": {},
   "outputs": [
    {
     "name": "stdout",
     "output_type": "stream",
     "text": [
      "2 record inserted.\n"
     ]
    }
   ],
   "source": [
    "connection = mysql.connector.connect(host=host,\n",
    "                                database=dbname,\n",
    "                                user= user,\n",
    "                                password=password)\n",
    "\n",
    "mycursor = connection.cursor()\n",
    "\n",
    "values= [('tomate', \"prueba\"), ('ajo', \"test\"),]\n",
    "sql = \"INSERT INTO user(username, name) VALUES (%s, %s)\"\n",
    "mycursor.executemany(sql, values)\n",
    "\n",
    "connection.commit()\n",
    "connection.close()\n",
    "\n",
    "print(mycursor.rowcount, \"record inserted.\")"
   ]
  },
  {
   "cell_type": "code",
   "execution_count": 221,
   "metadata": {},
   "outputs": [],
   "source": [
    "     # E. STORE DATA IN MYSQL DATABASE\n",
    "    connection = mysql.connector.connect(host=host,\n",
    "                                database=dbname,\n",
    "                                user= user,\n",
    "                                password=password)\n",
    "    \n",
    "    mycursor = connection.cursor()\n",
    "    \n",
    "    sql_user = \"INSERT INTO user(username, name) VALUES (%s, %s)\"\n",
    "#   sql_post = \"INSERT INTO post(datetime, likes) VALUES (%s, %s)\"\n",
    "\n",
    "    mycursor.executemany(sql_user, db_user)\n",
    "#    mycursor.executemany(sql_post, db_post)"
   ]
  },
  {
   "cell_type": "code",
   "execution_count": 113,
   "metadata": {},
   "outputs": [],
   "source": [
    "connection.close()\n"
   ]
  },
  {
   "cell_type": "code",
   "execution_count": 27,
   "metadata": {},
   "outputs": [
    {
     "data": {
      "text/plain": [
       "'https://www.instagram.com/p/Buj3NJIFzTa/'"
      ]
     },
     "execution_count": 27,
     "metadata": {},
     "output_type": "execute_result"
    }
   ],
   "source": [
    "# Get information from every post\n",
    "first_post = href_everylink[1]\n",
    "first_post"
   ]
  },
  {
   "cell_type": "code",
   "execution_count": 28,
   "metadata": {},
   "outputs": [],
   "source": [
    "# 1. Call the url\n",
    "response_url = requests.get(first_post, headers=hdrs) \n",
    "\n",
    "# 2. Get the JSON from the url. There we'll find the graphql with the data we want\n",
    "source = response_url.text\n",
    "data_json = re.findall(r'<script type=\"text/javascript\">window._sharedData = (.*);</script>', source)[0]\n",
    "data_json = json.loads(data_json)     # it gives back a python dictionary.\n",
    "\n",
    "# 3. Let's go to the section we're interested in. Here ['PostPage'][0] contain a list (it has []), \n",
    "# therefore, we use [0] to get get contented inside this list and continue navigating. \n",
    "data = data_json['entry_data']['PostPage'][0]['graphql']['shortcode_media']   \n",
    "\n",
    "# 4. Let's get interesting information!!\n",
    "dt =data['taken_at_timestamp']"
   ]
  },
  {
   "cell_type": "code",
   "execution_count": 12,
   "metadata": {},
   "outputs": [
    {
     "data": {
      "text/plain": [
       "'2019-03-03 21:56:11'"
      ]
     },
     "execution_count": 12,
     "metadata": {},
     "output_type": "execute_result"
    }
   ],
   "source": [
    "from datetime import datetime\n",
    "datetime = datetime.fromtimestamp(dt)\n",
    "datetime = datetime.strftime(\"%Y-%m-%d %H:%M:%S%z\")\n",
    "datetime"
   ]
  },
  {
   "cell_type": "code",
   "execution_count": 32,
   "metadata": {},
   "outputs": [
    {
     "data": {
      "text/plain": [
       "int"
      ]
     },
     "execution_count": 32,
     "metadata": {},
     "output_type": "execute_result"
    }
   ],
   "source": [
    "type(data['edge_media_preview_like']['count'])"
   ]
  },
  {
   "cell_type": "code",
   "execution_count": 29,
   "metadata": {},
   "outputs": [
    {
     "data": {
      "text/plain": [
       "{'__typename': 'GraphImage',\n",
       " 'id': '1991678255938614490',\n",
       " 'shortcode': 'Buj3NJIFzTa',\n",
       " 'dimensions': {'height': 1080, 'width': 1080},\n",
       " 'gating_info': None,\n",
       " 'fact_check_overall_rating': None,\n",
       " 'fact_check_information': None,\n",
       " 'media_preview': 'ACoqw7ZFcnfjAXPJ285Hf/PrVvyYCG+78pIHznnAzkeue3SqlsqM/wC9yUwc44x7/wCeK1ILNkjMioG77nA6ewPH44OaTdhIrpBC4B+Vc46v69vqAOfr+AYYYt4XgDaTy/GQenTOccdO+ccVd/tAsCrsY9uNpC8fjikkuAFxKUl54+U9x6nkfgQeanm8itO5RngiVCU25GP4sk884H+eKoVoXFltXzY8lepHXb759PryO9Z9aJ3E9DViSODMh6qPlB559fwqWC4d33NvZerEZ6e3tUl2FEe0YXkH/wDXVCOV4jlNw+h//Xms9zVO3RGo0ts6lACgb7zfeYj056ZqJbS3wQkmQecEYJ9B3/lVc6jv/wBciyD3+VvwYY/UVZgiW8P7pBGAO5Y9+5qXcr3HvzL5p/5EcUDMHCk8ggY9enfjGKp/2fJ6H8v/AK9dUsOyMRqAAOuM9e/vUGRTTsZ2T9OhXIST73NRmxiP3fl+hNUoiasqT60xj1sFU5DHj1wf6VdsYPJY8k7h+A+npVIMfWp1JpAaaJsyT+lUagdj61V3H1NIEf/Z',\n",
       " 'display_url': 'https://scontent-mrs2-1.cdninstagram.com/vp/ef0053eee86bd2fa5c11484c78e9352a/5E877C55/t51.2885-15/e35/52947444_2071422939620367_306876959366657938_n.jpg?_nc_ht=scontent-mrs2-1.cdninstagram.com&_nc_cat=103',\n",
       " 'display_resources': [{'src': 'https://scontent-mrs2-1.cdninstagram.com/vp/a2be30f697224f681ff9e53e399bb176/5E8845B0/t51.2885-15/sh0.08/e35/s640x640/52947444_2071422939620367_306876959366657938_n.jpg?_nc_ht=scontent-mrs2-1.cdninstagram.com&_nc_cat=103',\n",
       "   'config_width': 640,\n",
       "   'config_height': 640},\n",
       "  {'src': 'https://scontent-mrs2-1.cdninstagram.com/vp/b92d35c5cfba35f20b3e1efecf0452d1/5E8CFDB0/t51.2885-15/sh0.08/e35/s750x750/52947444_2071422939620367_306876959366657938_n.jpg?_nc_ht=scontent-mrs2-1.cdninstagram.com&_nc_cat=103',\n",
       "   'config_width': 750,\n",
       "   'config_height': 750},\n",
       "  {'src': 'https://scontent-mrs2-1.cdninstagram.com/vp/ef0053eee86bd2fa5c11484c78e9352a/5E877C55/t51.2885-15/e35/52947444_2071422939620367_306876959366657938_n.jpg?_nc_ht=scontent-mrs2-1.cdninstagram.com&_nc_cat=103',\n",
       "   'config_width': 1080,\n",
       "   'config_height': 1080}],\n",
       " 'accessibility_caption': 'Image may contain: food',\n",
       " 'is_video': False,\n",
       " 'tracking_token': 'eyJ2ZXJzaW9uIjo1LCJwYXlsb2FkIjp7ImlzX2FuYWx5dGljc190cmFja2VkIjp0cnVlLCJ1dWlkIjoiNjMwY2ZkNTQ0MzBiNGZjNDg2NDdlMTZlMjhkOThmYWIxOTkxNjc4MjU1OTM4NjE0NDkwIn0sInNpZ25hdHVyZSI6IiJ9',\n",
       " 'edge_media_to_tagged_user': {'edges': [{'node': {'user': {'full_name': '🌱 La Veganesa 🌱',\n",
       "      'id': '3421979756',\n",
       "      'is_verified': False,\n",
       "      'profile_pic_url': 'https://scontent-mrs2-1.cdninstagram.com/vp/f16567890153df61e0f9f74a0c607b91/5E51CF84/t51.2885-19/s150x150/36546410_2233374636890390_6067775954355224576_n.jpg?_nc_ht=scontent-mrs2-1.cdninstagram.com',\n",
       "      'username': 'laveganesa'},\n",
       "     'x': 0.4275555556,\n",
       "     'y': 0.9836601298}},\n",
       "   {'node': {'user': {'full_name': 'Diversa | Vegan Books',\n",
       "      'id': '4149269111',\n",
       "      'is_verified': False,\n",
       "      'profile_pic_url': 'https://scontent-mrs2-1.cdninstagram.com/vp/71e6eb20a36bab3b4c7949c5ac4a9be4/5E68B2B0/t51.2885-19/s150x150/28765399_212349372688076_8359179717311463424_n.jpg?_nc_ht=scontent-mrs2-1.cdninstagram.com',\n",
       "      'username': 'diversaediciones'},\n",
       "     'x': 0.1466666667,\n",
       "     'y': 0.9836601298}},\n",
       "   {'node': {'user': {'full_name': 'Heura® by Foods for Tomorrow',\n",
       "      'id': '4532344280',\n",
       "      'is_verified': False,\n",
       "      'profile_pic_url': 'https://scontent-mrs2-1.cdninstagram.com/vp/0d5a17a0f28bdc54179875809c952b20/5E8441F7/t51.2885-19/s150x150/75349250_567049114105280_2855983909869453312_n.jpg?_nc_ht=scontent-mrs2-1.cdninstagram.com',\n",
       "      'username': 'foodsfortomorrow'},\n",
       "     'x': 0.7706666667,\n",
       "     'y': 0.9836601298}}]},\n",
       " 'edge_media_to_caption': {'edges': [{'node': {'text': '[LA VEGANESA]\\n¡Nos vamos a Cádiz!\\nEs un gran honor contaros que el miércoles 24 de abril a las 18:00 horas daremos un curso en el restaurante @laveganesa, en Cádiz. Nuestro chef y autor de nuestro libro os contará nuestra experiencia, secretos familiares en las recetas, hablará de nutrición y muchas cosas más.\\nEl temario será:\\nDulces.\\nPannacotta com mermelada de fresas al cava. \\nSalama de Ciocolato sin gluten.\\nSalados.\\nBurger Mexicana: incluye a demás la receta del guacamole y la veganesa.\\nLa Griega Burger: incluye a a demás la receta de la salsa Tzatziki.\\nHeura: la revolución vegana del futuro. @foodsfortomorrow \\nPresentación de esta proteína vegetal: incluye la receta de los tomates rellenos. Son un total de ocho recetas del libro.\\nEl precio es:\\n35 euros por persona solo showcooking. 50 euros showcooking + libro\\nReserva tu plaza en \\ninfo@distritovegano.com ¡Son limitadas!\\n#vegan #veganfood #veganeat #veganlife #veganlifestyle #instavegan #instaveganfood #food #restaurant #madrid #lavapies #comida #vegano #instafood  #VeganFoodShare #VeganFoodPorn#WhatVegansEat #vegansofspain #VegansOfIg #vegansofinstagram #veganlife #VeganStyle #madridvegano #distritovegano #laveganesa'}}]},\n",
       " 'caption_is_edited': False,\n",
       " 'has_ranked_comments': False,\n",
       " 'edge_media_to_parent_comment': {'count': 12,\n",
       "  'page_info': {'has_next_page': False, 'end_cursor': None},\n",
       "  'edges': [{'node': {'id': '17965590868225185',\n",
       "     'text': '@paulicroack',\n",
       "     'created_at': 1551695955,\n",
       "     'did_report_as_spam': False,\n",
       "     'owner': {'id': '40573656',\n",
       "      'is_verified': False,\n",
       "      'profile_pic_url': 'https://scontent-mrs2-1.cdninstagram.com/vp/9ba265fb29f0dea1ccb929feb6ad8c0b/5E4B6489/t51.2885-19/s150x150/71227905_496368094251790_5330703456908869632_n.jpg?_nc_ht=scontent-mrs2-1.cdninstagram.com',\n",
       "      'username': 'caralinski'},\n",
       "     'viewer_has_liked': False,\n",
       "     'edge_liked_by': {'count': 2},\n",
       "     'edge_threaded_comments': {'count': 1,\n",
       "      'page_info': {'has_next_page': False, 'end_cursor': None},\n",
       "      'edges': [{'node': {'id': '18013590286188902',\n",
       "         'text': '@caralinski 😍',\n",
       "         'created_at': 1551696741,\n",
       "         'did_report_as_spam': False,\n",
       "         'owner': {'id': '54143310',\n",
       "          'is_verified': False,\n",
       "          'profile_pic_url': 'https://scontent-mrs2-1.cdninstagram.com/vp/c01655676fe46353811c0961392c56f1/5E844FD3/t51.2885-19/s150x150/43914868_761977544135399_4102114068884619264_n.jpg?_nc_ht=scontent-mrs2-1.cdninstagram.com',\n",
       "          'username': 'paulicroack'},\n",
       "         'viewer_has_liked': False,\n",
       "         'edge_liked_by': {'count': 0}}}]}}},\n",
       "   {'node': {'id': '17851330069367257',\n",
       "     'text': '@melaniawolf',\n",
       "     'created_at': 1551742913,\n",
       "     'did_report_as_spam': False,\n",
       "     'owner': {'id': '1347828305',\n",
       "      'is_verified': False,\n",
       "      'profile_pic_url': 'https://scontent-mrs2-1.cdninstagram.com/vp/78351c0bcec8e43dfe9b4d359a9a661d/5E59384F/t51.2885-19/891365_630722377014861_1639365550_a.jpg?_nc_ht=scontent-mrs2-1.cdninstagram.com',\n",
       "      'username': 'bazpavsonia'},\n",
       "     'viewer_has_liked': False,\n",
       "     'edge_liked_by': {'count': 1},\n",
       "     'edge_threaded_comments': {'count': 0,\n",
       "      'page_info': {'has_next_page': False, 'end_cursor': None},\n",
       "      'edges': []}}},\n",
       "   {'node': {'id': '17965327654238565',\n",
       "     'text': '@lotbysandragarcia mira gordi que guay!!',\n",
       "     'created_at': 1551778160,\n",
       "     'did_report_as_spam': False,\n",
       "     'owner': {'id': '216737027',\n",
       "      'is_verified': False,\n",
       "      'profile_pic_url': 'https://scontent-mrs2-1.cdninstagram.com/vp/5d6f61e218a7025ca95a1d57f3e1a474/5E65DBCD/t51.2885-19/10954285_1537174816562589_884316377_a.jpg?_nc_ht=scontent-mrs2-1.cdninstagram.com',\n",
       "      'username': 'lucia_ortiz_j'},\n",
       "     'viewer_has_liked': False,\n",
       "     'edge_liked_by': {'count': 1},\n",
       "     'edge_threaded_comments': {'count': 0,\n",
       "      'page_info': {'has_next_page': False, 'end_cursor': None},\n",
       "      'edges': []}}},\n",
       "   {'node': {'id': '18009322294145226',\n",
       "     'text': 'Granada!! 💚',\n",
       "     'created_at': 1551787438,\n",
       "     'did_report_as_spam': False,\n",
       "     'owner': {'id': '758711066',\n",
       "      'is_verified': False,\n",
       "      'profile_pic_url': 'https://scontent-mrs2-1.cdninstagram.com/vp/0e80728e937f200a99d5199d0217c04c/5E6CD917/t51.2885-19/s150x150/37411609_473546586403573_5942858260775174144_n.jpg?_nc_ht=scontent-mrs2-1.cdninstagram.com',\n",
       "      'username': 'fit.different'},\n",
       "     'viewer_has_liked': False,\n",
       "     'edge_liked_by': {'count': 1},\n",
       "     'edge_threaded_comments': {'count': 0,\n",
       "      'page_info': {'has_next_page': False, 'end_cursor': None},\n",
       "      'edges': []}}},\n",
       "   {'node': {'id': '18016593568093535',\n",
       "     'text': 'A BCN, claro, pero a vivir. Forevah.',\n",
       "     'created_at': 1551797315,\n",
       "     'did_report_as_spam': False,\n",
       "     'owner': {'id': '31327134',\n",
       "      'is_verified': False,\n",
       "      'profile_pic_url': 'https://scontent-mrs2-1.cdninstagram.com/vp/247feafff1c34837b05b852a5543758f/5E596122/t51.2885-19/s150x150/53759635_407261356730676_2691879003400175616_n.jpg?_nc_ht=scontent-mrs2-1.cdninstagram.com',\n",
       "      'username': 'jan_mm'},\n",
       "     'viewer_has_liked': False,\n",
       "     'edge_liked_by': {'count': 1},\n",
       "     'edge_threaded_comments': {'count': 0,\n",
       "      'page_info': {'has_next_page': False, 'end_cursor': None},\n",
       "      'edges': []}}},\n",
       "   {'node': {'id': '18006124408163002',\n",
       "     'text': 'Oviedo!',\n",
       "     'created_at': 1551799441,\n",
       "     'did_report_as_spam': False,\n",
       "     'owner': {'id': '245404645',\n",
       "      'is_verified': False,\n",
       "      'profile_pic_url': 'https://scontent-mrs2-1.cdninstagram.com/vp/c9e0b7e5bf8539cf34e2a075831ee896/5E594DE4/t51.2885-19/s150x150/72758216_2491868554474669_4896077548514967552_n.jpg?_nc_ht=scontent-mrs2-1.cdninstagram.com',\n",
       "      'username': 'ruthaf26'},\n",
       "     'viewer_has_liked': False,\n",
       "     'edge_liked_by': {'count': 1},\n",
       "     'edge_threaded_comments': {'count': 0,\n",
       "      'page_info': {'has_next_page': False, 'end_cursor': None},\n",
       "      'edges': []}}},\n",
       "   {'node': {'id': '18042605236033458',\n",
       "     'text': '@fanyr22 @abigueil33 @irenellucia os animáis?',\n",
       "     'created_at': 1551815540,\n",
       "     'did_report_as_spam': False,\n",
       "     'owner': {'id': '3903877203',\n",
       "      'is_verified': False,\n",
       "      'profile_pic_url': 'https://scontent-mrs2-1.cdninstagram.com/vp/3df0518fae7ea9b4d841faf57b196fbe/5E54C004/t51.2885-19/s150x150/36085487_222504775047905_7071453384150089728_n.jpg?_nc_ht=scontent-mrs2-1.cdninstagram.com',\n",
       "      'username': 'conalasdehada'},\n",
       "     'viewer_has_liked': False,\n",
       "     'edge_liked_by': {'count': 0},\n",
       "     'edge_threaded_comments': {'count': 1,\n",
       "      'page_info': {'has_next_page': False, 'end_cursor': None},\n",
       "      'edges': [{'node': {'id': '18043418938054608',\n",
       "         'text': '@conalasdehada creo a estoy de mañana🤗🤗🤗',\n",
       "         'created_at': 1551941637,\n",
       "         'did_report_as_spam': False,\n",
       "         'owner': {'id': '1405407756',\n",
       "          'is_verified': False,\n",
       "          'profile_pic_url': 'https://scontent-mrs2-1.cdninstagram.com/vp/f5587340d0f735995e44b044170cfb79/5E69B50E/t51.2885-19/19436626_125643828024816_2241294976514260992_a.jpg?_nc_ht=scontent-mrs2-1.cdninstagram.com',\n",
       "          'username': 'fanyr22'},\n",
       "         'viewer_has_liked': False,\n",
       "         'edge_liked_by': {'count': 0}}}]}}},\n",
       "   {'node': {'id': '18024722083117337',\n",
       "     'text': '@robertoanton9',\n",
       "     'created_at': 1551961904,\n",
       "     'did_report_as_spam': False,\n",
       "     'owner': {'id': '429703525',\n",
       "      'is_verified': False,\n",
       "      'profile_pic_url': 'https://scontent-mrs2-1.cdninstagram.com/vp/dc05d37041ef24e37dc69ca78a41d4b7/5E56D3E9/t51.2885-19/s150x150/44564671_2196373800680639_4096821655563665408_n.jpg?_nc_ht=scontent-mrs2-1.cdninstagram.com',\n",
       "      'username': 'carreroguille'},\n",
       "     'viewer_has_liked': False,\n",
       "     'edge_liked_by': {'count': 0},\n",
       "     'edge_threaded_comments': {'count': 0,\n",
       "      'page_info': {'has_next_page': False, 'end_cursor': None},\n",
       "      'edges': []}}},\n",
       "   {'node': {'id': '18009361261155009',\n",
       "     'text': '@carmenbarbado',\n",
       "     'created_at': 1551991777,\n",
       "     'did_report_as_spam': False,\n",
       "     'owner': {'id': '40873834',\n",
       "      'is_verified': False,\n",
       "      'profile_pic_url': 'https://scontent-mrs2-1.cdninstagram.com/vp/9330f00b5bc7f4c328b138e38e576bab/5E837375/t51.2885-19/s150x150/11313729_137442319926439_1599449273_a.jpg?_nc_ht=scontent-mrs2-1.cdninstagram.com',\n",
       "      'username': 'rosamgda'},\n",
       "     'viewer_has_liked': False,\n",
       "     'edge_liked_by': {'count': 0},\n",
       "     'edge_threaded_comments': {'count': 0,\n",
       "      'page_info': {'has_next_page': False, 'end_cursor': None},\n",
       "      'edges': []}}},\n",
       "   {'node': {'id': '18027573889128423',\n",
       "     'text': 'Mira @lolamaquiavelo qué interesante 😍',\n",
       "     'created_at': 1552144759,\n",
       "     'did_report_as_spam': False,\n",
       "     'owner': {'id': '2617915',\n",
       "      'is_verified': False,\n",
       "      'profile_pic_url': 'https://scontent-mrs2-1.cdninstagram.com/vp/f663fb78e236fafc52d87533692bc422/5E50EDF6/t51.2885-19/s150x150/69631429_2425801431024507_6662185108700659712_n.jpg?_nc_ht=scontent-mrs2-1.cdninstagram.com',\n",
       "      'username': 'danideobregon'},\n",
       "     'viewer_has_liked': False,\n",
       "     'edge_liked_by': {'count': 0},\n",
       "     'edge_threaded_comments': {'count': 0,\n",
       "      'page_info': {'has_next_page': False, 'end_cursor': None},\n",
       "      'edges': []}}}]},\n",
       " 'edge_media_preview_comment': {'count': 12,\n",
       "  'edges': [{'node': {'id': '18009361261155009',\n",
       "     'text': '@carmenbarbado',\n",
       "     'created_at': 1551991777,\n",
       "     'did_report_as_spam': False,\n",
       "     'owner': {'id': '40873834',\n",
       "      'is_verified': False,\n",
       "      'profile_pic_url': 'https://scontent-mrs2-1.cdninstagram.com/vp/9330f00b5bc7f4c328b138e38e576bab/5E837375/t51.2885-19/s150x150/11313729_137442319926439_1599449273_a.jpg?_nc_ht=scontent-mrs2-1.cdninstagram.com',\n",
       "      'username': 'rosamgda'},\n",
       "     'viewer_has_liked': False,\n",
       "     'edge_liked_by': {'count': 0}}},\n",
       "   {'node': {'id': '18027573889128423',\n",
       "     'text': 'Mira @lolamaquiavelo qué interesante 😍',\n",
       "     'created_at': 1552144759,\n",
       "     'did_report_as_spam': False,\n",
       "     'owner': {'id': '2617915',\n",
       "      'is_verified': False,\n",
       "      'profile_pic_url': 'https://scontent-mrs2-1.cdninstagram.com/vp/f663fb78e236fafc52d87533692bc422/5E50EDF6/t51.2885-19/s150x150/69631429_2425801431024507_6662185108700659712_n.jpg?_nc_ht=scontent-mrs2-1.cdninstagram.com',\n",
       "      'username': 'danideobregon'},\n",
       "     'viewer_has_liked': False,\n",
       "     'edge_liked_by': {'count': 0}}}]},\n",
       " 'comments_disabled': False,\n",
       " 'taken_at_timestamp': 1551646571,\n",
       " 'edge_media_preview_like': {'count': 199, 'edges': []},\n",
       " 'edge_media_to_sponsor_user': {'edges': []},\n",
       " 'location': {'id': '163108464118223',\n",
       "  'has_public_page': True,\n",
       "  'name': 'La Veganesa Cádiz',\n",
       "  'slug': 'la-veganesa-cadiz',\n",
       "  'address_json': '{\"street_address\": \"C/SAN ANTONIO ABAD N\\\\u00b05 (EL POPULO) \", \"zip_code\": \"11005\", \"city_name\": \"C\\\\u00e1diz\", \"region_name\": \"\", \"country_code\": \"ES\", \"exact_city_match\": false, \"exact_region_match\": false, \"exact_country_match\": false}'},\n",
       " 'viewer_has_liked': False,\n",
       " 'viewer_has_saved': False,\n",
       " 'viewer_has_saved_to_collection': False,\n",
       " 'viewer_in_photo_of_you': False,\n",
       " 'viewer_can_reshare': True,\n",
       " 'owner': {'id': '3268073244',\n",
       "  'is_verified': False,\n",
       "  'profile_pic_url': 'https://scontent-mrs2-1.cdninstagram.com/vp/7d71f24ef9852c201b11f92309528e4d/5E66B175/t51.2885-19/s150x150/62375183_888171494916529_2553435762020319232_n.jpg?_nc_ht=scontent-mrs2-1.cdninstagram.com',\n",
       "  'username': 'distritovegano',\n",
       "  'blocked_by_viewer': False,\n",
       "  'followed_by_viewer': False,\n",
       "  'full_name': '[DISTRITO VEGANO]®',\n",
       "  'has_blocked_viewer': False,\n",
       "  'is_private': False,\n",
       "  'is_unpublished': False,\n",
       "  'requested_by_viewer': False},\n",
       " 'is_ad': False,\n",
       " 'edge_web_media_to_related_media': {'edges': []}}"
      ]
     },
     "execution_count": 29,
     "metadata": {},
     "output_type": "execute_result"
    }
   ],
   "source": [
    "data"
   ]
  }
 ],
 "metadata": {
  "hide_input": false,
  "kernelspec": {
   "display_name": "Python 3",
   "language": "python",
   "name": "python3"
  },
  "language_info": {
   "codemirror_mode": {
    "name": "ipython",
    "version": 3
   },
   "file_extension": ".py",
   "mimetype": "text/x-python",
   "name": "python",
   "nbconvert_exporter": "python",
   "pygments_lexer": "ipython3",
   "version": "3.7.3"
  },
  "toc": {
   "base_numbering": 1,
   "nav_menu": {},
   "number_sections": true,
   "sideBar": true,
   "skip_h1_title": false,
   "title_cell": "Table of Contents",
   "title_sidebar": "Contents",
   "toc_cell": false,
   "toc_position": {},
   "toc_section_display": true,
   "toc_window_display": false
  },
  "varInspector": {
   "cols": {
    "lenName": 16,
    "lenType": 16,
    "lenVar": 40
   },
   "kernels_config": {
    "python": {
     "delete_cmd_postfix": "",
     "delete_cmd_prefix": "del ",
     "library": "var_list.py",
     "varRefreshCmd": "print(var_dic_list())"
    },
    "r": {
     "delete_cmd_postfix": ") ",
     "delete_cmd_prefix": "rm(",
     "library": "var_list.r",
     "varRefreshCmd": "cat(var_dic_list()) "
    }
   },
   "position": {
    "height": "591px",
    "left": "1170px",
    "right": "20px",
    "top": "129px",
    "width": "350px"
   },
   "types_to_exclude": [
    "module",
    "function",
    "builtin_function_or_method",
    "instance",
    "_Feature"
   ],
   "window_display": false
  }
 },
 "nbformat": 4,
 "nbformat_minor": 2
}
